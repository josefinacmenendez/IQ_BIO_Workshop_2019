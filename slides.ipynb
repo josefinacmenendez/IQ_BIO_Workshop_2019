{
 "cells": [
  {
   "cell_type": "code",
   "execution_count": 1,
   "metadata": {
    "slideshow": {
     "slide_type": "skip"
    }
   },
   "outputs": [],
   "source": [
    "from IPython.display import HTML"
   ]
  },
  {
   "cell_type": "markdown",
   "metadata": {
    "slideshow": {
     "slide_type": "slide"
    }
   },
   "source": [
    "<p><div align = 'left'><b><font size = '6'>Statistics for Neural Data Analysis</font></b></div></p>\n",
    "<p><div align = 'left'><font size = '4'> Josefina Correa </font></div></p>\n",
    "<p><div align = 'left'><font size = '4'> PhD Student </font></div></p>\n",
    "<p><div align = 'left'><font size = '4'> Department of Brain and Cognitive Sciences, MIT </font></div></p>"
   ]
  },
  {
   "cell_type": "markdown",
   "metadata": {
    "slideshow": {
     "slide_type": "slide"
    }
   },
   "source": [
    "\n",
    "\n",
    "<p><div align = 'justify'><font size = '4'><b>\"Broadly speaking, computational neuroscientists come in three flavours. First and most obvious are those who make analytical or computational models of the nervous system, either at the level single neurons or as neural networks.  Another set devises tools to find the best ways to analyse experimental data. The third group informs experimental design by developing more sophisticated questions—creating stimulus sets to test neuronal response, for instance.\"</b></font></div></p>\n",
    "<p><div align = \"right\">-Hemai Parthasarthy,</div></p>\n",
    "<p><div align = \"right\">Biological Sciences Former Editor, Nature</div></p>\n",
    "<p><div align = \"right\">Nature October 31, 2002</div></p>"
   ]
  },
  {
   "cell_type": "markdown",
   "metadata": {
    "slideshow": {
     "slide_type": "slide"
    }
   },
   "source": [
    "### Objectives:\n",
    "- To define the role of statistics in neuroscience research\n",
    "- To introduce some of the types of data analyzed in neuroscience experiments\n",
    "- To implement the Box-Tukey Paradigm for statistical model building, data analysis and research"
   ]
  },
  {
   "cell_type": "markdown",
   "metadata": {
    "slideshow": {
     "slide_type": "slide"
    }
   },
   "source": [
    "### Statistics is the science of making decisions under uncertainty using mathematical models derived from probability theory\n",
    "\n",
    "### A statistic is any function of the data\n",
    "#### The mean, median, standard deviation, variance, kurtosis, are all statistics\n",
    "\n"
   ]
  },
  {
   "cell_type": "markdown",
   "metadata": {
    "slideshow": {
     "slide_type": "slide"
    }
   },
   "source": [
    "<p><div align = 'center'><b><font size = \"5\"> Neuroscience needs statistics</font> </b> </div></p>\n",
    "<img src=\"figures/neuroscience_data.png\" alt=\"Neuroscience Data\">\n",
    "\n"
   ]
  },
  {
   "cell_type": "markdown",
   "metadata": {
    "slideshow": {
     "slide_type": "slide"
    }
   },
   "source": [
    "### Categories of Neuroscience Experiments\n",
    "\n",
    "- Observational experiments\n",
    "- Stimulus-response experiments\n",
    "- Measures of association experiments"
   ]
  },
  {
   "cell_type": "markdown",
   "metadata": {
    "slideshow": {
     "slide_type": "slide"
    }
   },
   "source": [
    "<p><div align = 'center'><font size = '6'><b>Observational experiments seek to characterize the background neural activity</b></font></div></p>\n",
    "<p><div align = 'center'><font size = '5'>Spontaneous Retinal Ganglion Cell Activity, Iyengar and Liu, Biol. Cybernetics (1997).</font></div>"
   ]
  },
  {
   "cell_type": "markdown",
   "metadata": {
    "slideshow": {
     "slide_type": "subslide"
    }
   },
   "source": [
    "<p><div align = 'center'><img size = '30%' src = \"figures/retinal_neurons.png\"></div></p>"
   ]
  },
  {
   "cell_type": "markdown",
   "metadata": {
    "slideshow": {
     "slide_type": "slide"
    }
   },
   "source": [
    "<p><div align = 'center'><font size = '6'><b>Stimulus-Response experiments seek to characterize how neural activity changes with respect to a stimulus</b></font></div></p>\n",
    "<p><div align = 'center'><font size = '5'>Hippocampal place cells encode place specific information.</font></div>\n"
   ]
  },
  {
   "cell_type": "code",
   "execution_count": 2,
   "metadata": {
    "slideshow": {
     "slide_type": "subslide"
    }
   },
   "outputs": [
    {
     "data": {
      "text/html": [
       "</p><div align=\"center\"><video size=\"100%\" controls><source src=\"videos/hippocampal_place_cells.mp4\" type=\"video/mp4\"></video></div>\n"
      ],
      "text/plain": [
       "<IPython.core.display.HTML object>"
      ]
     },
     "metadata": {},
     "output_type": "display_data"
    }
   ],
   "source": [
    "%%HTML\n",
    "</p><div align=\"center\"><video size=\"100%\" controls><source src=\"videos/hippocampal_place_cells.mp4\" type=\"video/mp4\"></video></div>\n"
   ]
  },
  {
   "cell_type": "markdown",
   "metadata": {
    "slideshow": {
     "slide_type": "slide"
    }
   },
   "source": [
    "<p><div align = 'center'><font size = '6'><b>Measure of association experiments seek to assess whether there is a relation between two responses</b></font></div></p>"
   ]
  },
  {
   "cell_type": "markdown",
   "metadata": {
    "slideshow": {
     "slide_type": "subslide"
    }
   },
   "source": [
    "<p><div align = 'center'><img size = '20%' src = \"figures/scene_association.png\"></div></p>"
   ]
  },
  {
   "cell_type": "markdown",
   "metadata": {
    "slideshow": {
     "slide_type": "slide"
    }
   },
   "source": [
    "<p><div align = 'center'><img size = '0.5%' src=\"figures/box_tukey.png\" alt=\"Box-Tukey Paradigm\"></div></p>"
   ]
  },
  {
   "cell_type": "markdown",
   "metadata": {
    "slideshow": {
     "slide_type": "slide"
    }
   },
   "source": [
    "<p><div align = 'center'><font size = '5'><b>Implementing the box-tukey paradigm</b></font></div></p>\n",
    "<p><div align = 'center'><font size = '5'>Scientific question</font></div></p>\n",
    "<p><div align = 'center'><font size = '3'>Is the firing rate of retinal ganglion cells under a high light condition different from its background activity?\n",
    "    </font></div></p>"
   ]
  },
  {
   "cell_type": "markdown",
   "metadata": {
    "slideshow": {
     "slide_type": "slide"
    }
   },
   "source": [
    "<p><div align = 'center'><font size = '5'><b>Implementing the box-tukey paradigm</b></font></div></p>\n",
    "<p><div align = 'center'><font size = '5'>Getting Started</font></div></p>\n",
    "\n",
    "To get started, type the following commands on the terminal:\n",
    "\n",
    "Create a new directory for the tutorial, which will contain all tutorial materials\n",
    "\n",
    "``mkdir ‘IQ_BIO_WORKSHOP’``\n",
    "``cd IQ_BIO_WORKSHOP``"
   ]
  },
  {
   "cell_type": "markdown",
   "metadata": {
    "slideshow": {
     "slide_type": "subslide"
    }
   },
   "source": [
    "Clone Dr. Mark Kramer's repository, containing the data for this tutorial (and other data used in his book!)\n",
    "\n",
    "``git clone https://github.com/Mark-Kramer/Case-Studies-Kramer-Eden.git``\n",
    "\n",
    "``cd ../``"
   ]
  },
  {
   "cell_type": "markdown",
   "metadata": {
    "slideshow": {
     "slide_type": "subslide"
    }
   },
   "source": [
    "Clone the repository containing this tutorial's materials, which includes helper functions and workshop problems\n",
    "\n",
    "``git clone https://github.com/josefinacmenendez/IQ_BIO_Workshop_2019.git``\n",
    "\n",
    "``cd IQ_BIO_Workshop_2019``\n",
    "\n",
    "``jupyter-notebook modeling_interspike_intervals.ipynb``"
   ]
  },
  {
   "cell_type": "markdown",
   "metadata": {
    "slideshow": {
     "slide_type": "slide"
    }
   },
   "source": [
    "<p><div align = 'center'><font size = '5'><b>References</b></font></div></p>\n",
    "\n",
    "Brown, E. N., Barbieri, R., Eden, U. T., & Frank, L. M. (2003). Likelihood methods for neural spike train data analysis. Computational neuroscience: A comprehensive approach, 253-286.\n",
    "\n",
    "Chen, Z., Kloosterman, F., Brown, E. N., & Wilson, M. A. (2012). Uncovering spatial topology represented by rat hippocampal population neuronal codes. Journal of Computational Neuroscience, 33(2), 227-255.\n",
    "\n",
    "Feng, J. (2003). Computational neuroscience: a comprehensive approach. Chapman and Hall/CRC.\n",
    "\n",
    "Iyengar, S., & Liao, Q. (1997). Modeling neural activity using the generalized inverse Gaussian distribution. Biological Cybernetics, 77(4), 289-295.\n",
    "\n",
    "Kass, R. E., Eden, U. T., & Brown, E. N. (2014). Analysis of neural data (Vol. 491). New York: Springer.\n",
    "\n",
    "Kass, R. E., Ventura, V., & Brown, E. N. (2005). Statistical issues in the analysis of neuronal data. Journal of neurophysiology, 94(1), 8-25."
   ]
  },
  {
   "cell_type": "markdown",
   "metadata": {
    "slideshow": {
     "slide_type": "slide"
    }
   },
   "source": [
    "<p><div align = 'center'><font size = '5'><b>Acknowledgements</b></font></div></p>\n",
    "\n",
    "I would like to thank the CBMM for the opportunity to teach at the IQ-Bio workshop. I would also like to thank my advisor, Dr. Emery Brown, for useful feedback and for allowing me to use course material for the preparation of these slides."
   ]
  }
 ],
 "metadata": {
  "celltoolbar": "Slideshow",
  "kernelspec": {
   "display_name": "Python 3",
   "language": "python",
   "name": "python3"
  },
  "language_info": {
   "codemirror_mode": {
    "name": "ipython",
    "version": 3
   },
   "file_extension": ".py",
   "mimetype": "text/x-python",
   "name": "python",
   "nbconvert_exporter": "python",
   "pygments_lexer": "ipython3",
   "version": "3.7.3"
  }
 },
 "nbformat": 4,
 "nbformat_minor": 2
}
