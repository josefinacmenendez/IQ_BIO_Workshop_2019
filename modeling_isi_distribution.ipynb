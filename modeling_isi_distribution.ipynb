{
 "cells": [
  {
   "cell_type": "code",
   "execution_count": 4,
   "metadata": {
    "slideshow": {
     "slide_type": "skip"
    }
   },
   "outputs": [],
   "source": [
    "import numpy as np\n",
    "from matplotlib import pyplot as plt\n",
    "from scipy.io import loadmat\n",
    "from scipy.cluster.vq import kmeans\n",
    "from scipy.signal import find_peaks\n",
    "%matplotlib inline\n"
   ]
  },
  {
   "cell_type": "markdown",
   "metadata": {
    "slideshow": {
     "slide_type": "slide"
    }
   },
   "source": [
    "### Getting Started\n",
    "\n",
    "To get started, type the following commands on the terminal:\n",
    "\n",
    "Create a new directory for the tutorial, which will contain all tutorial materials\n",
    "```\n",
    "mkdir ‘IQ_BIO_WORKSHOP’\n",
    "cd IQ_BIO_WORKSHOP\n",
    "```\n",
    "\n",
    "Clone Dr. Mark Kramer's repository, containing the data for this tutorial (and other data used in his book!)\n",
    "\n",
    "```\n",
    "git clone https://github.com/Mark-Kramer/Case-Studies-Kramer-Eden.git\n",
    "```\n",
    "```\n",
    "cd ../\n",
    "```\n",
    "\n",
    "Clone the repository containing this tutorial's materials, which includes helper functions and workshop problems\n",
    "```\n",
    "git clone https://github.com/josefinacmenendez/IQ_BIO_Workshop_2019.git\n",
    "\n",
    "cd IQ_BIO_Workshop_2019\n",
    "```\n"
   ]
  },
  {
   "cell_type": "markdown",
   "metadata": {
    "slideshow": {
     "slide_type": "slide"
    }
   },
   "source": [
    "\n"
   ]
  },
  {
   "cell_type": "markdown",
   "metadata": {
    "slideshow": {
     "slide_type": "slide"
    }
   },
   "source": [
    "### Building Models of Spike Train Data\n",
    "\n",
    "### Data: Spontaneous firing activity of a retinal ganglion cell in cuture, exposed to low-light and high-light  environments\n",
    "\n",
    "### Aims: \n",
    "\n",
    "* To visualize spike-train data\n",
    "* To compute and interpret summary statistics\n",
    "* To build models of the inter-spike-interval distribution as a function of the light level"
   ]
  },
  {
   "cell_type": "code",
   "execution_count": 2,
   "metadata": {},
   "outputs": [
    {
     "name": "stdout",
     "output_type": "stream",
     "text": [
      " Ch9-spikes-1.mat   Ch9-spikes-2.mat   Chapter_9.m  \u001b[0m\u001b[01;34m'Chapter 9 Solutions'\u001b[0m/\r\n"
     ]
    }
   ],
   "source": [
    "ls ../Case-Studies-Kramer-Eden/Chapter9/"
   ]
  },
  {
   "cell_type": "code",
   "execution_count": 56,
   "metadata": {},
   "outputs": [],
   "source": [
    "retinal_ganglion_path = '../Case-Studies-Kramer-Eden/Chapter8/Ch8-spikes-1.mat'\n",
    "retinal_ganglion_spks = loadmat(retinal_ganglion_path)\n",
    "\n",
    "retinal_ganglion_spks['SpikesLow']\n",
    "data_keys = list(retinal_ganglion_spks.keys())\n",
    "data_names= [i for i in data_keys if '_' not in i]\n",
    "data_dict = {}\n",
    "for field_name in data_names:\n",
    "    data_dict[field_name] = retinal_ganglion_spks[field_name]"
   ]
  },
  {
   "cell_type": "code",
   "execution_count": 2,
   "metadata": {},
   "outputs": [],
   "source": [
    "#utils.py\n",
    "def load_mat_file(path):\n",
    "    matlab_struct = loadmat(path)\n",
    "    data_keys = list(matlab_struct.keys())\n",
    "    data_names= [i for i in data_keys if '_' not in i]\n",
    "    data_dict = {}\n",
    "    for field_name in data_names:\n",
    "        data_dict[field_name] = matlab_struct[field_name]\n",
    "    return data_dict"
   ]
  },
  {
   "cell_type": "code",
   "execution_count": 106,
   "metadata": {},
   "outputs": [
    {
     "data": {
      "image/png": "[encoded data removed]",
      "text/plain": [
       "<Figure size 432x288 with 1 Axes>"
      ]
     },
     "metadata": {
      "needs_background": "light"
     },
     "output_type": "display_data"
    }
   ],
   "source": [
    "N_spikes_low = np.shape(data_dict['SpikesHigh'])[1]\n",
    "N_spikes_high= np.shape(data_dict['SpikesLow'])[1]\n",
    "y_vals_low   = np.ones((1,N_spikes_low))\n",
    "y_vals_high  = np.ones((1,N_spikes_high))*2\n",
    "low_spikes   = data_dict['SpikesHigh']\n",
    "high_spikes  = data_dict['SpikesLow']\n",
    "plt.plot(low_spikes.T,y_vals_low.T,'|')\n",
    "plt.plot(high_spikes.T, y_vals_high.T, 'r|')\n",
    "plt.yticks(np.arange(1,3))\n",
    "plt.ylim([0,3])\n",
    "plt.xlim([0, 5])\n",
    "plt.ylabel('Neuron')\n",
    "plt.xlabel('Time (s)')\n",
    "plt.title('Raster plot for spontaneous firing  \\n of retinal ganglion cells under high-low conditions')\n",
    "plt.legend(['SpikesHigh','SpikesLow'])\n",
    "plt.show()"
   ]
  },
  {
   "cell_type": "code",
   "execution_count": 114,
   "metadata": {},
   "outputs": [],
   "source": [
    "spikes_diff = []\n",
    "for i in range(N_spikes_low-1):\n",
    "    low_ISI = low_spikes[0][i+1] - low_spikes[0][i]\n",
    "    spikes_diff.append(low_ISI)\n",
    "    "
   ]
  },
  {
   "cell_type": "code",
   "execution_count": null,
   "metadata": {},
   "outputs": [],
   "source": []
  },
  {
   "cell_type": "code",
   "execution_count": 129,
   "metadata": {},
   "outputs": [
    {
     "data": {
      "image/png": "[encoded data removed]",
      "text/plain": [
       "<Figure size 432x288 with 1 Axes>"
      ]
     },
     "metadata": {
      "needs_background": "light"
     },
     "output_type": "display_data"
    }
   ],
   "source": [
    "bins = np.arange(0,0.5,0.001)\n",
    "plt.hist(spikes_diff,bins)\n",
    "plt.ylabel('Counts')\n",
    "plt.xlabel('ISI (s)')\n",
    "plt.show()"
   ]
  },
  {
   "cell_type": "code",
   "execution_count": 3,
   "metadata": {},
   "outputs": [
    {
     "name": "stdout",
     "output_type": "stream",
     "text": [
      " Ch9-spikes-1.mat   Ch9-spikes-2.mat   Chapter_9.m  \u001b[0m\u001b[01;34m'Chapter 9 Solutions'\u001b[0m/\r\n"
     ]
    }
   ],
   "source": [
    "ls ../Case-Studies-Kramer-Eden/Chapter9/"
   ]
  },
  {
   "cell_type": "code",
   "execution_count": 3,
   "metadata": {},
   "outputs": [
    {
     "name": "stdout",
     "output_type": "stream",
     "text": [
      "dict_keys(['t', 'X', 'spiketimes'])\n"
     ]
    }
   ],
   "source": [
    "place_cell_data_path = '../Case-Studies-Kramer-Eden/Chapter9/Ch9-spikes-1.mat'\n",
    "place_cell_dict = load_mat_file(place_cell_data_path)\n",
    "print(place_cell_dict.keys())"
   ]
  },
  {
   "cell_type": "code",
   "execution_count": 103,
   "metadata": {},
   "outputs": [
    {
     "data": {
      "image/png": "[encoded data removed]",
      "text/plain": [
       "<Figure size 432x288 with 1 Axes>"
      ]
     },
     "metadata": {
      "needs_background": "light"
     },
     "output_type": "display_data"
    }
   ],
   "source": [
    "N_spikes = place_cell_dict['spiketimes'].size\n",
    "y_vals   = np.zeros(N_spikes)\n",
    "\n",
    "spike_time_pos_idx = [np.where(place_cell_dict['t']==spike_time)[0][0] for spike_time in place_cell_dict['spiketimes']]\n",
    "spike_time_pos     = place_cell_dict['X'][spike_time_pos_idx]\n",
    "\n",
    "plt.plot(place_cell_dict['t'],place_cell_dict['X'],'.')\n",
    "plt.plot(place_cell_dict['t'][trial_idxs],place_cell_dict['X'][trial_idxs],'*k')\n",
    "\n",
    "plt.plot(place_cell_dict['spiketimes'],y_vals,'|')\n",
    "plt.plot(place_cell_dict['spiketimes'],spike_time_pos,'.r')\n",
    "\n",
    "plt.xlabel('Time (s)')\n",
    "plt.ylabel('Position (cm)')\n",
    "\n",
    "plt.show()"
   ]
  },
  {
   "cell_type": "code",
   "execution_count": 107,
   "metadata": {},
   "outputs": [
    {
     "name": "stdout",
     "output_type": "stream",
     "text": [
      "[144135 144419 145026 145395]\n",
      "[148572]\n",
      "[150215 150686 157904 158536 158985 159186 159584 159901 160233 160557\n",
      " 170938 171321 171495 171934 172263 172524 172806 172979 173244]\n"
     ]
    }
   ],
   "source": [
    "print(tmp_peaks_down)\n",
    "print(tmp_peaks_up)\n",
    "print(peaks_up[-20:-1])"
   ]
  },
  {
   "cell_type": "code",
   "execution_count": 187,
   "metadata": {},
   "outputs": [],
   "source": [
    "peaks_up, _    = find_peaks(place_cell_dict['X'].T[0],88) #parameters chosen by visual inspection\n",
    "peaks_down,_   = find_peaks(place_cell_dict['X'].T[0]*-1,-11) #parameters chosen by visual inspection\n",
    "\n",
    "trial_idxs     = []\n",
    "tmp_peaks_up   = np.copy(peaks_up)\n",
    "tmp_peaks_down = np.copy(peaks_down)\n",
    "curr_peak      = tmp_peaks_down[0]\n",
    "next_peak      = tmp_peaks_up[0]\n",
    "\n",
    "trial_idxs.append(curr_peak)\n",
    "trial_idxs.append(next_peak)\n",
    "\n",
    "condition1 = len(np.where(tmp_peaks_up   > curr_peak)[0]) > 0\n",
    "condition2 = len(np.where(tmp_peaks_down > next_peak)[0]) > 0\n",
    "condition  = condition1 and condition2\n",
    "\n",
    "while condition:\n",
    "\n",
    "    next_peak_up_idx  = np.where(tmp_peaks_up > curr_peak)[0][0]\n",
    "    next_peak_up      = tmp_peaks_up[next_peak_up_idx]\n",
    "    tmp_peaks_up      = tmp_peaks_up[next_peak_up_idx:-1]\n",
    "    \n",
    "    next_peak_down_idx= np.where(tmp_peaks_down > next_peak_up)[0][0]\n",
    "    next_peak_down    = tmp_peaks_down[next_peak_down_idx]\n",
    "    tmp_peaks_down    = tmp_peaks_down[next_peak_down_idx:-1]\n",
    "    \n",
    "    trial_idxs.append(next_peak_up)\n",
    "    trial_idxs.append(next_peak_down)\n",
    "    \n",
    "    curr_peak  = next_peak_down\n",
    "    \n",
    "    condition1 = len(np.where(tmp_peaks_up   > curr_peak)[0]) > 0\n",
    "    condition2 = len(np.where(tmp_peaks_down > next_peak_up)[0]) > 0\n",
    "    condition  = condition1 and condition2\n",
    "    \n",
    "trial_idxs.append(peaks_up[-1])\n",
    "trial_idxs.append(peaks_down[-1])\n",
    "\n",
    "N_trials      = len(trial_idxs)\n",
    "start_idxs    = trial_idxs[1:N_trials:2]\n",
    "start_idxs[0] = 0\n",
    "start_idxs[-1]= trial_idxs[-1]\n"
   ]
  },
  {
   "cell_type": "code",
   "execution_count": 188,
   "metadata": {},
   "outputs": [
    {
     "data": {
      "image/png": "[encoded data removed]",
      "text/plain": [
       "<Figure size 432x288 with 1 Axes>"
      ]
     },
     "metadata": {
      "needs_background": "light"
     },
     "output_type": "display_data"
    }
   ],
   "source": [
    "N_spikes = place_cell_dict['spiketimes'].size\n",
    "y_vals   = np.zeros(N_spikes)\n",
    "\n",
    "spike_time_pos_idx = [np.where(place_cell_dict['t']==spike_time)[0][0] for spike_time in place_cell_dict['spiketimes']]\n",
    "spike_time_pos     = place_cell_dict['X'][spike_time_pos_idx]\n",
    "\n",
    "plt.plot(place_cell_dict['t'],place_cell_dict['X'],'.')\n",
    "plt.plot(place_cell_dict['t'][start_idxs],place_cell_dict['X'][start_idxs],'*k')\n",
    "\n",
    "plt.plot(place_cell_dict['spiketimes'],y_vals,'|')\n",
    "plt.plot(place_cell_dict['spiketimes'],spike_time_pos,'.r')\n",
    "\n",
    "plt.xlabel('Time (s)')\n",
    "plt.ylabel('Position (cm)')\n",
    "\n",
    "plt.show()"
   ]
  },
  {
   "cell_type": "code",
   "execution_count": 210,
   "metadata": {},
   "outputs": [],
   "source": [
    "by_trial_dict = {}\n",
    "by_trial_dict['X']=[]\n",
    "by_trial_dict['t']=[]\n",
    "by_trial_dict['spiketimes']=[]\n",
    "for t in range(len(start_idxs)-1):\n",
    "    t_start = start_idxs[t]\n",
    "    t_end   = start_idxs[t+1]-1\n",
    "    by_trial_dict['X'].append(place_cell_dict['X'].T[0][t_start:t_end])\n",
    "    by_trial_dict['t'].append(place_cell_dict['t'].T[0][t_start:t_end])\n",
    "    curr_spike_times   = [i for i in place_cell_dict['spiketimes'].T[0] if i in by_trial_dict['t'][t]]\n",
    "    by_trial_dict['spiketimes'].append(curr_spike_times)"
   ]
  },
  {
   "cell_type": "code",
   "execution_count": 233,
   "metadata": {},
   "outputs": [
    {
     "data": {
      "image/png": "[encoded data removed]",
      "text/plain": [
       "<Figure size 432x288 with 1 Axes>"
      ]
     },
     "metadata": {
      "needs_background": "light"
     },
     "output_type": "display_data"
    }
   ],
   "source": [
    "all_inter_spike_intervals = []\n",
    "for t in range(len(by_trial_dict['spiketimes'])):\n",
    "    #plt.plot(by_trial_dict['t'][t], by_trial_dict['X'][t])\n",
    "    curr_spike_times = by_trial_dict['spiketimes'][t]\n",
    "    all_inter_spike_intervals.append(np.diff(curr_spike_times))\n",
    "flatten = lambda l: [item for sublist in l for item in sublist]\n",
    "ISIs = flatten(all_inter_spike_intervals)\n",
    "plt.hist(ISIs,density=True, bins=100)\n",
    "plt.show()"
   ]
  },
  {
   "cell_type": "code",
   "execution_count": 209,
   "metadata": {},
   "outputs": [
    {
     "data": {
      "text/plain": [
       "array([  0.236,   3.902,   4.033,   4.088,   4.115,   4.116,   4.155,\n",
       "         4.193,   4.297,   4.326,   4.328,   4.499,   4.518,   4.577,\n",
       "         9.589,  14.163,  14.168,  14.184,  14.226,  14.239,  14.304,\n",
       "        14.329,  14.347,  14.359,  14.362,  14.375,  14.524,  23.698,\n",
       "        23.736,  23.768,  23.801,  23.807,  23.964,  24.016,  24.017,\n",
       "        24.148,  24.195,  31.31 ,  36.982,  37.051,  37.141,  37.245,\n",
       "        37.249,  37.262,  37.281,  37.291,  37.298,  37.327,  37.351,\n",
       "        37.377,  37.413,  37.425,  37.471,  37.473,  37.564,  37.673,\n",
       "        37.751,  47.976,  48.012,  48.035,  48.09 ,  48.134,  48.143,\n",
       "        48.17 ,  48.203,  48.249,  48.261,  48.271,  48.279,  48.297,\n",
       "        48.305,  48.339,  48.56 ,  58.447,  58.747,  58.765,  58.78 ,\n",
       "        58.859,  58.883,  58.949,  58.963,  58.973,  58.998,  59.134,\n",
       "        60.056,  60.234,  69.505,  69.539,  69.629,  69.671,  69.721,\n",
       "        69.77 ,  69.771,  69.783,  69.832,  69.862,  69.897,  69.9  ,\n",
       "        69.91 ,  69.934,  69.939,  69.974,  70.089,  70.113,  82.325,\n",
       "        82.45 ,  82.529,  82.557,  82.585,  82.596,  82.617,  82.651,\n",
       "        82.664,  82.693,  82.696,  82.732,  82.733,  82.833,  82.856,\n",
       "        82.882,  82.917,  82.937,  83.041,  83.172,  85.566,  91.443,\n",
       "        96.344,  96.52 ,  96.524,  96.547,  96.579,  96.608,  96.771,\n",
       "        96.789,  96.79 ,  96.91 ,  96.911, 102.461, 108.038, 108.041,\n",
       "       108.082, 108.127, 108.144, 108.183, 108.259, 108.291, 108.315,\n",
       "       108.344, 108.566, 121.071, 121.366, 121.428, 121.462, 121.536,\n",
       "       121.544, 121.586, 121.723, 121.78 , 121.831, 121.887, 121.923,\n",
       "       121.983, 122.141, 125.273, 127.061, 136.391, 136.533, 136.569,\n",
       "       136.736, 136.761, 136.778, 136.837, 136.861, 136.96 , 137.038,\n",
       "       137.096, 137.135, 137.329, 141.677, 147.085, 147.15 , 147.289,\n",
       "       147.304, 147.31 , 147.325, 147.397, 147.46 , 147.492, 147.542,\n",
       "       147.566, 147.747, 156.526, 156.534, 156.582, 156.603, 156.637,\n",
       "       156.646, 156.667, 156.668, 156.681, 156.698, 156.72 , 156.761,\n",
       "       156.765, 156.792, 156.847, 156.862, 156.936, 156.982, 157.096,\n",
       "       157.376, 169.624, 169.668, 169.708, 169.773, 169.782, 169.796,\n",
       "       169.873, 169.935, 170.062])"
      ]
     },
     "execution_count": 209,
     "metadata": {},
     "output_type": "execute_result"
    }
   ],
   "source": [
    "place_cell_dict['spiketimes'].T[0]"
   ]
  },
  {
   "cell_type": "code",
   "execution_count": 136,
   "metadata": {},
   "outputs": [
    {
     "data": {
      "image/png": "[encoded data removed]",
      "text/plain": [
       "<Figure size 432x288 with 1 Axes>"
      ]
     },
     "metadata": {
      "needs_background": "light"
     },
     "output_type": "display_data"
    },
    {
     "data": {
      "image/png": "[encoded data removed]",
      "text/plain": [
       "<Figure size 432x288 with 1 Axes>"
      ]
     },
     "metadata": {
      "needs_background": "light"
     },
     "output_type": "display_data"
    }
   ],
   "source": [
    "going_up_idxs   = np.where(np.diff(place_cell_dict['X'].T[0])>0)\n",
    "going_down_idxs = np.where(np.diff(place_cell_dict['X'].T[0])<0)\n",
    "\n",
    "going_up_times  = place_cell_dict['t'].T[0][going_up_idxs]\n",
    "going_down_times= place_cell_dict['t'].T[0][going_down_idxs]\n",
    "going_up_spike_times = [i for i in place_cell_dict['spiketimes'].T[0] if i in going_up_times]\n",
    "going_down_spike_times = [i for i in place_cell_dict['spiketimes'].T[0] if i in going_down_times]\n",
    "going_up_ISIs = np.diff(going_up_spike_times)\n",
    "going_down_ISIs = np.diff(going_down_spike_times)\n",
    "plt.hist(going_up_ISIs,density=True)\n",
    "plt.show()\n",
    "plt.hist(going_down_ISIs,density=True)\n",
    "plt.show()"
   ]
  },
  {
   "cell_type": "code",
   "execution_count": 65,
   "metadata": {},
   "outputs": [
    {
     "ename": "IndexError",
     "evalue": "index 220 is out of bounds for axis 0 with size 220",
     "output_type": "error",
     "traceback": [
      "\u001b[0;31m---------------------------------------------------------------------------\u001b[0m",
      "\u001b[0;31mIndexError\u001b[0m                                Traceback (most recent call last)",
      "\u001b[0;32m<ipython-input-65-f12f1f165b34>\u001b[0m in \u001b[0;36m<module>\u001b[0;34m\u001b[0m\n\u001b[0;32m----> 1\u001b[0;31m \u001b[0mgoing_up_spikes\u001b[0m \u001b[0;34m=\u001b[0m \u001b[0mplace_cell_dict\u001b[0m\u001b[0;34m[\u001b[0m\u001b[0;34m'spiketimes'\u001b[0m\u001b[0;34m]\u001b[0m\u001b[0;34m.\u001b[0m\u001b[0mT\u001b[0m\u001b[0;34m[\u001b[0m\u001b[0;36m0\u001b[0m\u001b[0;34m]\u001b[0m\u001b[0;34m[\u001b[0m\u001b[0mgoing_up_idxs\u001b[0m\u001b[0;34m]\u001b[0m\u001b[0;34m\u001b[0m\u001b[0;34m\u001b[0m\u001b[0m\n\u001b[0m\u001b[1;32m      2\u001b[0m \u001b[0mgoing_down_spikes\u001b[0m\u001b[0;34m=\u001b[0m\u001b[0mplace_cell_dict\u001b[0m\u001b[0;34m[\u001b[0m\u001b[0;34m'spiketimes'\u001b[0m\u001b[0;34m]\u001b[0m\u001b[0;34m.\u001b[0m\u001b[0mT\u001b[0m\u001b[0;34m[\u001b[0m\u001b[0;36m0\u001b[0m\u001b[0;34m]\u001b[0m\u001b[0;34m[\u001b[0m\u001b[0mgoing_down_idxs\u001b[0m\u001b[0;34m]\u001b[0m\u001b[0;34m\u001b[0m\u001b[0;34m\u001b[0m\u001b[0m\n",
      "\u001b[0;31mIndexError\u001b[0m: index 220 is out of bounds for axis 0 with size 220"
     ]
    }
   ],
   "source": [
    "going_up_spikes = place_cell_dict['spiketimes'].T[0][going_up_idxs]\n",
    "going_down_spikes=place_cell_dict['spiketimes'].T[0][going_down_idxs]"
   ]
  },
  {
   "cell_type": "code",
   "execution_count": 75,
   "metadata": {},
   "outputs": [
    {
     "data": {
      "text/plain": [
       "(88932,)"
      ]
     },
     "execution_count": 75,
     "metadata": {},
     "output_type": "execute_result"
    }
   ],
   "source": [
    "a = place_cell_dict['spiketimes'].T[0]\n",
    "going_up_idxs[0].shape"
   ]
  },
  {
   "cell_type": "code",
   "execution_count": null,
   "metadata": {},
   "outputs": [],
   "source": [
    "spike_time_pos_idx = [np.where(place_cell_dict['t']==spike_time)[0][0] for spike_time in place_cell_dict['spiketimes']]\n",
    "#find spike times corresponding to the upward trajectory\n"
   ]
  }
 ],
 "metadata": {
  "celltoolbar": "Slideshow",
  "kernelspec": {
   "display_name": "Python 3",
   "language": "python",
   "name": "python3"
  },
  "language_info": {
   "codemirror_mode": {
    "name": "ipython",
    "version": 3
   },
   "file_extension": ".py",
   "mimetype": "text/x-python",
   "name": "python",
   "nbconvert_exporter": "python",
   "pygments_lexer": "ipython3",
   "version": "3.7.3"
  }
 },
 "nbformat": 4,
 "nbformat_minor": 2
}
