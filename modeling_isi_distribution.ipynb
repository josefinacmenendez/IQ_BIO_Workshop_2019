{
 "cells": [
  {
   "cell_type": "code",
   "execution_count": 4,
   "metadata": {
    "slideshow": {
     "slide_type": "skip"
    }
   },
   "outputs": [],
   "source": [
    "import numpy as np\n",
    "from matplotlib import pyplot as plt\n",
    "from scipy.io import loadmat\n",
    "import sys, os\n",
    "%matplotlib inline\n"
   ]
  },
  {
   "cell_type": "code",
   "execution_count": 5,
   "metadata": {
    "slideshow": {
     "slide_type": "skip"
    }
   },
   "outputs": [
    {
     "name": "stdout",
     "output_type": "stream",
     "text": [
      "LICENSE      modeling_isi_distribution.ipynb  README.md\r\n",
      "\u001b[0m\u001b[01;34mliterature\u001b[0m/  \u001b[01;35mmonkey_hippocampus.png\u001b[0m\r\n"
     ]
    }
   ],
   "source": [
    "ls"
   ]
  },
  {
   "cell_type": "markdown",
   "metadata": {
    "slideshow": {
     "slide_type": "slide"
    }
   },
   "source": [
    "### \"Computational Neuroscience uses mathematical models to study how neural systems represent and transmit information\" \n",
    "<p><div align = 'right'> - Computational Neuroscience: A Comprehensive Approach </div></p>\n",
    "\n",
    "### \"Broadly speaking, computational neuroscientists come in three flavours. First and most obvious are those who make analytical or computational models of the nervous system, either at the level single neurons or as neural networks.  Another set devises tools to find the best ways to analyse experimental data. The third group informs experimental design by developing more sophisticated questions—creating stimulus sets to test neuronal response, for instance.\"\n",
    "<p><div align = \"right\">\n",
    "-Hemai Parthasarthy,\n",
    "Biological Sciences Former Editor, Nature\n",
    "Nature October 31, 2002</div></p>"
   ]
  },
  {
   "cell_type": "markdown",
   "metadata": {},
   "source": [
    "### Objectives:\n",
    "- To define the role of statistics in neuroscience research\n",
    "- To introduce some of the types of data analyzed in neuroscience experiments\n",
    "- To go through the Box-Tukey Paradigm for statistical model building, data analysis and research\n",
    "- To implement the Box-Tukey Paradigm on a dataset: \n",
    "    * Exploratory Data Analysis\n",
    "    * Building Statistical Models\n",
    "    * Goodness of fit\n",
    "    * Conducting statistical inference"
   ]
  },
  {
   "cell_type": "markdown",
   "metadata": {},
   "source": [
    "### Statistics is the science of making decisions under uncertainty using mathematical models derived from probability theory\n",
    "\n",
    "### A statistic is any function of the data\n",
    "#### The mean, median, standard deviation, variance, kurtosis, are all statistics\n",
    "\n"
   ]
  },
  {
   "cell_type": "markdown",
   "metadata": {},
   "source": [
    "<p><div align = 'center'><b><font size = \"5\"> Neuroscience needs statistics</font> </b> </div></p>\n",
    "<img src=\"figures/neuroscience_data.png\" alt=\"Neuroscience Data\">\n",
    "\n"
   ]
  },
  {
   "cell_type": "markdown",
   "metadata": {
    "slideshow": {
     "slide_type": "slide"
    }
   },
   "source": [
    "### Categories of Neuroscience Experiments\n",
    "\n",
    "- Observational experiments\n",
    "- Stimulus-response experiments\n",
    "- Measures of association experiments"
   ]
  },
  {
   "cell_type": "markdown",
   "metadata": {
    "slideshow": {
     "slide_type": "slide"
    }
   },
   "source": [
    "### Observational experiments seek to characterize the background neural activity\n",
    "\n",
    "- What is the background activity of a retinal ganglion cell when exposed to ambient light?\n",
    "- What is the background noise in a MEG sensor?\n",
    "- What is the base-line activity of cortical neurons prior to administering propofol?"
   ]
  },
  {
   "cell_type": "markdown",
   "metadata": {
    "slideshow": {
     "slide_type": "slide"
    }
   },
   "source": [
    "### Stimulus-response experiments seek to characterize neural activity with respect to a stimulus\n",
    "\n",
    "- How do retinal ganglion cells respond to a higher level of light?\n",
    "- How does the firing rate of neural ensembles in the hippocampus change with respect to experience?\n",
    "- How does the pattern of activity of cortical neurons change after the administration of propofol?"
   ]
  },
  {
   "cell_type": "markdown",
   "metadata": {
    "slideshow": {
     "slide_type": "slide"
    }
   },
   "source": [
    "### Measure of association experiments seek to characterize whether there is a relation between two responses\n",
    "\n",
    "- Can be observational experiments:\n",
    "    - Is there a relation between the level of light that a retinal ganglion cell is exposed to and the inter-event spike intervals?\n",
    "- Can be stimulus-response experiments\n",
    "    - Is there a relation between the learning rate and the firing rate of hippocampal neurons during a scene association task?\n",
    "\n"
   ]
  },
  {
   "cell_type": "markdown",
   "metadata": {
    "slideshow": {
     "slide_type": "slide"
    }
   },
   "source": [
    "### Neuroscience data are typically time-series data that fall into the following categories:\n",
    "\n",
    "- Discrete Data (a finite or countably infinite set of values)\n",
    "    1. binary responses in a behavioral experiment\n",
    "    2. spike counts\n",
    "- Point Process Data (binary, i.e. either 0 or 1 in continuous time)\n",
    "    1. neural spike trains\n",
    "    2. heart beat recordings\n",
    "- Continuous-Valued Data (assume any values in a finite or infinite range)\n",
    "    1. reaction times\n",
    "    2. fMRI\n",
    "    3. EEG\n",
    "    4. MEG\n",
    "    5. Local field potentials"
   ]
  },
  {
   "cell_type": "markdown",
   "metadata": {
    "slideshow": {
     "slide_type": "slide"
    }
   },
   "source": [
    "### Discrete Data: binary responses in a behavioral experiment\n"
   ]
  },
  {
   "cell_type": "markdown",
   "metadata": {
    "slideshow": {
     "slide_type": "slide"
    }
   },
   "source": [
    "### Point Process Data: binary responses in continuous time\n"
   ]
  },
  {
   "cell_type": "markdown",
   "metadata": {
    "slideshow": {
     "slide_type": "slide"
    }
   },
   "source": [
    "### Continuous-Valued Data: any values in a finite or infinite range\n"
   ]
  },
  {
   "cell_type": "markdown",
   "metadata": {
    "slideshow": {
     "slide_type": "slide"
    }
   },
   "source": [
    "<p><div align = 'center'><b><font size = \"5\"> The Statistical Paradigm for Reasoning Under Uncertainty (Box, Tukey) </font> </b> </div></p>\n",
    "\n",
    "<img src=\"box_tukey_paradigm.png\" alt=\"Box-Tukey Paradigm\">\n",
    "<p><div align = 'justify'>Figure 2. The Box-Tukey Paradigm. Kass, R. E., Eden, U. T., & Brown, E. N. (2014). <i>Introduction</i>. In Analysis of neural data (p. 18). New York: Springer.\n",
    "</div></p>"
   ]
  },
  {
   "cell_type": "markdown",
   "metadata": {
    "slideshow": {
     "slide_type": "slide"
    }
   },
   "source": [
    "<p><div align = 'justify'><b><font size = \"5\"> Statistical models are used along with scientific models and methods to make conclusions about observable phenomena.  The process of model-building is as iterative as the process of experimental design. The iterative process of model-building is what allows for the infinite loop of knowledge-building to continue and requires both theory and empiricism </font> </b> </div></p>\n",
    "\n",
    "<p><div align = 'right'><font size = \"4\"> \"All models are wrong but some are useful\"</font></div></p>\n",
    "<p><div align = 'right'><font size = \"3\"> -George Box (1979)</font></div></p>\n",
    "\n",
    "<img src=\"box_tukey_paradigm.png\" alt=\"Box-Tukey Paradigm\" align = \"left\" vspace=\"50\"></img>\n",
    "\n",
    "\n"
   ]
  },
  {
   "cell_type": "markdown",
   "metadata": {
    "slideshow": {
     "slide_type": "slide"
    }
   },
   "source": [
    "<p><div align = 'center'><b><font size = \"5\"> Neuroscience needs statistics in order to make inference about the neural data under uncertainty </font> </b> </div></p>\n",
    "\n",
    "<img src=\"monkey_hippocampus.png\" alt=\"Rater Plot\">\n",
    "<p><div align = 'justify'> Figure 1. Raster plot of spiking activity from a hippocampal place cell recorded from a non-human primate during a scene association task, courtesy of Dr. Wendy Suzuki. </div></p>"
   ]
  },
  {
   "cell_type": "markdown",
   "metadata": {},
   "source": [
    "### Motivating example: A learning experiment\n",
    "\n"
   ]
  },
  {
   "cell_type": "markdown",
   "metadata": {},
   "source": [
    "### Exploratory Data Analysis\n",
    "\n"
   ]
  },
  {
   "cell_type": "markdown",
   "metadata": {},
   "source": [
    "### Building Statistical Models\n",
    "#### Discrete Probability Distributions\n",
    "\n"
   ]
  },
  {
   "cell_type": "markdown",
   "metadata": {},
   "source": [
    "### Building Statistical Models\n",
    "#### Continuous Probability Distributions\n",
    "\n"
   ]
  },
  {
   "cell_type": "markdown",
   "metadata": {},
   "source": [
    "### Goodness of fit: How well does the model describe the data?\n",
    "#### Quantile-Quantile Plots \n",
    "\n"
   ]
  },
  {
   "cell_type": "markdown",
   "metadata": {},
   "source": [
    "### Conducting statistical inference\n",
    "#### Maximum Likelihood Methods \n",
    "\n"
   ]
  },
  {
   "cell_type": "markdown",
   "metadata": {},
   "source": [
    "### Conducting statistical inference\n",
    "#### Bootstrap Procedures \n",
    "\n"
   ]
  },
  {
   "cell_type": "code",
   "execution_count": null,
   "metadata": {},
   "outputs": [],
   "source": [
    "####"
   ]
  },
  {
   "cell_type": "markdown",
   "metadata": {
    "slideshow": {
     "slide_type": "slide"
    }
   },
   "source": [
    "### Neural Spike Trains are Point-Processes"
   ]
  },
  {
   "cell_type": "markdown",
   "metadata": {
    "slideshow": {
     "slide_type": "slide"
    }
   },
   "source": [
    "### Neural Spike Trains are Point-Processes"
   ]
  },
  {
   "cell_type": "markdown",
   "metadata": {
    "raw_mimetype": "text/markdown",
    "slideshow": {
     "slide_type": "slide"
    }
   },
   "source": [
    "### Getting Started\n",
    "\n",
    "To get started, type the following commands on the terminal:\n",
    "\n",
    "Create a new directory for the tutorial, which will contain all tutorial materials\n",
    "```\n",
    "mkdir ‘IQ_BIO_WORKSHOP’\n",
    "cd IQ_BIO_WORKSHOP\n",
    "```\n",
    "\n",
    "Clone Dr. Mark Kramer's repository, containing the data for this tutorial (and other data used in his book!)\n",
    "\n",
    "```\n",
    "git clone https://github.com/Mark-Kramer/Case-Studies-Kramer-Eden.git\n",
    "```\n",
    "```\n",
    "cd ../\n",
    "```\n",
    "\n",
    "Clone the repository containing this tutorial's materials, which includes helper functions and workshop problems\n",
    "```\n",
    "git clone https://github.com/josefinacmenendez/IQ_BIO_Workshop_2019.git\n",
    "\n",
    "cd IQ_BIO_Workshop_2019\n",
    "```\n"
   ]
  },
  {
   "cell_type": "markdown",
   "metadata": {
    "slideshow": {
     "slide_type": "slide"
    }
   },
   "source": [
    "\n"
   ]
  },
  {
   "cell_type": "markdown",
   "metadata": {
    "slideshow": {
     "slide_type": "slide"
    }
   },
   "source": [
    "### Building Models of Spike Train Data\n",
    "\n",
    "### Data: Spontaneous firing activity of a retinal ganglion cell in cuture, exposed to low-light and high-light  environments\n",
    "\n",
    "### Aims: \n",
    "\n",
    "* To visualize spike-train data\n",
    "* To compute and interpret summary statistics\n",
    "* To build models of the inter-spike-interval distribution as a function of the light level"
   ]
  },
  {
   "cell_type": "markdown",
   "metadata": {},
   "source": [
    "### Visualizing a spike train\n",
    "\n",
    "A neural spike train represents the time series of spikes that occurred during a recording session. Neural spike trains are best described as point process measurements"
   ]
  },
  {
   "cell_type": "code",
   "execution_count": null,
   "metadata": {},
   "outputs": [],
   "source": [
    "# visualize the spike trains"
   ]
  },
  {
   "cell_type": "code",
   "execution_count": null,
   "metadata": {},
   "outputs": [],
   "source": [
    "# compute the ISIs"
   ]
  },
  {
   "cell_type": "code",
   "execution_count": null,
   "metadata": {},
   "outputs": [],
   "source": [
    "# description of different distributions"
   ]
  },
  {
   "cell_type": "code",
   "execution_count": null,
   "metadata": {},
   "outputs": [],
   "source": [
    "# fit different distributions"
   ]
  },
  {
   "cell_type": "code",
   "execution_count": null,
   "metadata": {},
   "outputs": [],
   "source": [
    "# compute the distribution's parameters analytically (maximum-likelihood)"
   ]
  },
  {
   "cell_type": "code",
   "execution_count": null,
   "metadata": {},
   "outputs": [],
   "source": [
    "# compute the distribution's parameters using the bootstrap proccedure"
   ]
  },
  {
   "cell_type": "code",
   "execution_count": null,
   "metadata": {},
   "outputs": [],
   "source": [
    "# assess goodness of fit: which distribution characterizes the data best?"
   ]
  },
  {
   "cell_type": "code",
   "execution_count": 12,
   "metadata": {},
   "outputs": [
    {
     "name": "stdout",
     "output_type": "stream",
     "text": [
      "Ch9-spikes-1.mat  Ch9-spikes-2.mat  Chapter_9.m  \u001b[0m\u001b[01;34mChapter 9 Solutions\u001b[0m/\r\n"
     ]
    }
   ],
   "source": [
    "ls ../Case-Studies-Kramer-Eden/Chapter9/"
   ]
  },
  {
   "cell_type": "code",
   "execution_count": 13,
   "metadata": {},
   "outputs": [],
   "source": [
    "retinal_ganglion_path = '../Case-Studies-Kramer-Eden/Chapter8/Ch8-spikes-1.mat'\n",
    "retinal_ganglion_spks = loadmat(retinal_ganglion_path)\n",
    "\n",
    "retinal_ganglion_spks['SpikesLow']\n",
    "data_keys = list(retinal_ganglion_spks.keys())\n",
    "data_names= [i for i in data_keys if '_' not in i]\n",
    "data_dict = {}\n",
    "for field_name in data_names:\n",
    "    data_dict[field_name] = retinal_ganglion_spks[field_name]"
   ]
  },
  {
   "cell_type": "code",
   "execution_count": 14,
   "metadata": {},
   "outputs": [],
   "source": [
    "#utils.py\n",
    "def load_mat_file(path):\n",
    "    matlab_struct = loadmat(path)\n",
    "    data_keys = list(matlab_struct.keys())\n",
    "    data_names= [i for i in data_keys if '_' not in i]\n",
    "    data_dict = {}\n",
    "    for field_name in data_names:\n",
    "        data_dict[field_name] = matlab_struct[field_name]\n",
    "    return data_dict"
   ]
  },
  {
   "cell_type": "code",
   "execution_count": 63,
   "metadata": {},
   "outputs": [
    {
     "data": {
      "text/plain": [
       "array([2.26923549e-02, 2.91512704e-02, 3.28696072e-02, 1.73650456e-01,\n",
       "       1.89327215e-01, 1.94088169e-01, 1.99935301e-01, 2.02840026e-01,\n",
       "       2.25966421e-01, 3.32167714e-01, 3.36063909e-01, 3.58217072e-01,\n",
       "       3.94142537e-01, 4.67429939e-01, 4.80225928e-01, 4.88823287e-01,\n",
       "       5.20136425e-01, 5.30841458e-01, 5.46511403e-01, 5.53617080e-01,\n",
       "       5.59555390e-01, 5.88139403e-01, 5.89371040e-01, 6.09999559e-01,\n",
       "       6.14753887e-01, 6.35863449e-01, 6.41966722e-01, 6.96471639e-01,\n",
       "       7.05277249e-01, 7.33187722e-01, 7.39410532e-01, 7.48230353e-01,\n",
       "       7.54396247e-01, 7.69820245e-01, 7.78240092e-01, 7.81755963e-01,\n",
       "       7.85642090e-01, 8.11569058e-01, 8.17493918e-01, 8.64917944e-01,\n",
       "       8.69099741e-01, 8.92098702e-01, 8.97547799e-01, 9.18107544e-01,\n",
       "       9.25463287e-01, 9.36455823e-01, 9.62292194e-01, 9.70189265e-01,\n",
       "       9.76941829e-01, 1.00677589e+00, 1.04309952e+00, 1.05705078e+00,\n",
       "       1.06196886e+00, 1.07056268e+00, 1.08798859e+00, 1.12908076e+00,\n",
       "       1.13205375e+00, 1.16570429e+00, 1.22568355e+00, 1.27200761e+00,\n",
       "       1.35561501e+00, 1.36493079e+00, 1.42919193e+00, 1.44075576e+00,\n",
       "       1.44262978e+00, 1.57246018e+00, 1.58723397e+00, 1.59348860e+00,\n",
       "       1.60251408e+00, 1.60953962e+00, 1.64587590e+00, 1.64703736e+00,\n",
       "       1.67610682e+00, 1.69382052e+00, 1.71585479e+00, 1.76362887e+00,\n",
       "       1.76643118e+00, 1.79110433e+00, 1.79866740e+00, 1.83014803e+00,\n",
       "       1.83369431e+00, 1.86111080e+00, 1.86284946e+00, 1.87203258e+00,\n",
       "       1.92639154e+00, 1.97036533e+00, 1.97770429e+00, 1.99862416e+00,\n",
       "       2.00741053e+00, 2.01774142e+00, 2.03515761e+00, 2.28306686e+00,\n",
       "       2.28571058e+00, 2.29359905e+00, 2.29838021e+00, 2.30752275e+00,\n",
       "       2.31553403e+00, 2.35235974e+00, 2.36676742e+00, 2.39294212e+00,\n",
       "       2.40641399e+00, 2.42282590e+00, 2.42785907e+00, 2.45135321e+00,\n",
       "       2.45870738e+00, 2.48284489e+00, 2.65559472e+00, 2.68134856e+00,\n",
       "       2.69863361e+00, 2.70282545e+00, 2.75244566e+00, 2.76447529e+00,\n",
       "       2.77024047e+00, 2.77498603e+00, 2.85871655e+00, 2.89337533e+00,\n",
       "       2.93287108e+00, 2.93637536e+00, 2.94371112e+00, 2.95118119e+00,\n",
       "       2.95630939e+00, 3.33164896e+00, 3.33681361e+00, 3.34282729e+00,\n",
       "       3.35052127e+00, 3.35868866e+00, 3.37287969e+00, 3.38745220e+00,\n",
       "       3.39060574e+00, 3.40245883e+00, 3.41083165e+00, 3.42472317e+00,\n",
       "       3.45749696e+00, 3.47318839e+00, 3.47722742e+00, 3.48184323e+00,\n",
       "       3.48369522e+00, 3.49577084e+00, 3.49909108e+00, 3.51390205e+00,\n",
       "       3.52211454e+00, 3.53156568e+00, 3.53827016e+00, 3.54649866e+00,\n",
       "       3.55291090e+00, 3.61296768e+00, 3.63320285e+00, 3.66443812e+00,\n",
       "       3.70776404e+00, 3.74915075e+00, 3.75791646e+00, 3.76004058e+00,\n",
       "       3.76175940e+00, 3.82111484e+00, 3.89724686e+00, 3.90420527e+00,\n",
       "       3.93682441e+00, 3.95750031e+00, 4.00183270e+00, 4.05402285e+00,\n",
       "       4.06013859e+00, 4.06341871e+00, 4.08134228e+00, 4.08528686e+00,\n",
       "       4.08757299e+00, 4.09595405e+00, 4.19584918e+00, 4.20058231e+00,\n",
       "       4.21051625e+00, 4.22307709e+00, 4.22775794e+00, 4.24688360e+00,\n",
       "       4.24847272e+00, 4.29159463e+00, 4.29903332e+00, 4.30332185e+00,\n",
       "       4.30934676e+00, 4.33241144e+00, 4.34292402e+00, 4.41398355e+00,\n",
       "       4.42023069e+00, 4.43526031e+00, 4.44180329e+00, 4.55236839e+00,\n",
       "       4.58431106e+00, 4.60028437e+00, 4.61041937e+00, 4.65181924e+00,\n",
       "       4.67055556e+00, 4.67857954e+00, 4.68095718e+00, 4.71184484e+00,\n",
       "       5.24203449e+00, 5.25846325e+00, 5.26321762e+00, 5.29668830e+00,\n",
       "       5.60828361e+00, 5.61541648e+00, 5.64522146e+00, 5.67646021e+00,\n",
       "       5.70558042e+00, 5.72835056e+00, 5.98998284e+00, 6.00024327e+00,\n",
       "       6.02581882e+00, 6.08417589e+00, 6.08664831e+00, 6.09109005e+00,\n",
       "       6.09224572e+00, 6.14904562e+00, 6.16419859e+00, 6.16708215e+00,\n",
       "       6.17684342e+00, 6.17908912e+00, 6.18378872e+00, 6.18754304e+00,\n",
       "       6.19849664e+00, 6.23805171e+00, 6.24128740e+00, 6.24988245e+00,\n",
       "       6.29952891e+00, 6.30958829e+00, 6.58216848e+00, 6.59023505e+00,\n",
       "       6.62440400e+00, 6.64667558e+00, 6.65036372e+00, 6.65336154e+00,\n",
       "       6.82261404e+00, 6.82643194e+00, 6.83431636e+00, 6.83848973e+00,\n",
       "       6.87304219e+00, 6.90460043e+00, 6.90929062e+00, 6.97496820e+00,\n",
       "       6.98523404e+00, 6.99545629e+00, 7.01906782e+00, 7.02230289e+00,\n",
       "       7.03712203e+00, 7.19432632e+00, 7.21187159e+00, 7.23293820e+00,\n",
       "       7.25520115e+00, 7.26527618e+00, 7.27810690e+00, 7.28331435e+00,\n",
       "       7.29801340e+00, 7.31478503e+00, 7.35680496e+00, 7.39949004e+00,\n",
       "       7.40442779e+00, 7.42980406e+00, 7.49262675e+00, 7.49850186e+00,\n",
       "       7.54791419e+00, 7.58824650e+00, 7.59637546e+00, 7.62510191e+00,\n",
       "       7.64068964e+00, 7.64764969e+00, 7.65482954e+00, 7.66380149e+00,\n",
       "       7.66687296e+00, 7.67286679e+00, 7.67472552e+00, 7.69642936e+00,\n",
       "       7.77284893e+00, 7.78123361e+00, 7.78696428e+00, 7.84783006e+00,\n",
       "       7.87836710e+00, 7.88426768e+00, 7.89233436e+00, 7.92706566e+00,\n",
       "       7.97884585e+00, 8.00107166e+00, 8.00717389e+00, 8.01210770e+00,\n",
       "       8.02607366e+00, 8.04595270e+00, 8.04799848e+00, 8.14954640e+00,\n",
       "       8.18350658e+00, 8.19237790e+00, 8.21222339e+00, 8.22758404e+00,\n",
       "       8.23536119e+00, 8.24029808e+00, 8.60178574e+00, 8.62742361e+00,\n",
       "       8.64090804e+00, 8.65036522e+00, 8.65520760e+00, 8.69559314e+00,\n",
       "       8.70475073e+00, 8.70784768e+00, 8.76778210e+00, 8.78612631e+00,\n",
       "       8.80499957e+00, 8.81152388e+00, 8.83514362e+00, 8.84492719e+00,\n",
       "       8.87351379e+00, 8.89301554e+00, 8.97497492e+00, 8.98086137e+00,\n",
       "       8.98212925e+00, 9.01035215e+00, 9.05167344e+00, 9.06008298e+00,\n",
       "       9.06710335e+00, 9.13610828e+00, 9.14731024e+00, 9.23470896e+00,\n",
       "       9.25728858e+00, 9.26072965e+00, 9.27151286e+00, 9.27893737e+00,\n",
       "       9.31926825e+00, 9.33279292e+00, 9.33580633e+00, 9.34655238e+00,\n",
       "       9.48418980e+00, 9.49469100e+00, 9.49867540e+00, 9.51504419e+00,\n",
       "       9.63940976e+00, 9.69026761e+00, 9.69310021e+00, 9.74721155e+00,\n",
       "       9.85487205e+00, 1.01279244e+01, 1.01694211e+01, 1.01749632e+01,\n",
       "       1.01808599e+01, 1.01839980e+01, 1.01903682e+01, 1.01943965e+01,\n",
       "       1.02234511e+01, 1.02338030e+01, 1.02637277e+01, 1.08113837e+01,\n",
       "       1.08561339e+01, 1.08721511e+01, 1.08842829e+01, 1.08895583e+01,\n",
       "       1.08934631e+01, 1.09205627e+01, 1.09379440e+01, 1.09509491e+01,\n",
       "       1.10001491e+01, 1.10063954e+01, 1.10188573e+01, 1.10220170e+01,\n",
       "       1.10292253e+01, 1.10505111e+01, 1.11118569e+01, 1.11446493e+01,\n",
       "       1.11864297e+01, 1.11980184e+01, 1.12042885e+01, 1.12149975e+01,\n",
       "       1.12213194e+01, 1.12292348e+01, 1.12473996e+01, 1.12568730e+01,\n",
       "       1.13437311e+01, 1.13507836e+01, 1.13819806e+01, 1.13867500e+01,\n",
       "       1.13934175e+01, 1.13993605e+01, 1.14238484e+01, 1.14279670e+01,\n",
       "       1.14417328e+01, 1.14464312e+01, 1.14503918e+01, 1.14824273e+01,\n",
       "       1.15643303e+01, 1.15693532e+01, 1.15735021e+01, 1.16126546e+01,\n",
       "       1.16307100e+01, 1.16652745e+01, 1.16800975e+01, 1.16865507e+01,\n",
       "       1.17033409e+01, 1.17074080e+01, 1.17156819e+01, 1.17894156e+01,\n",
       "       1.17987686e+01, 1.18448687e+01, 1.20120612e+01, 1.20272436e+01,\n",
       "       1.20508520e+01, 1.20652799e+01, 1.20962122e+01, 1.21164690e+01,\n",
       "       1.21202477e+01, 1.21684530e+01, 1.21719803e+01, 1.21958414e+01,\n",
       "       1.23006781e+01, 1.23114517e+01, 1.23146826e+01, 1.23171117e+01,\n",
       "       1.23521169e+01, 1.23531097e+01, 1.23708725e+01, 1.23787758e+01,\n",
       "       1.23876742e+01, 1.23966289e+01, 1.24062469e+01, 1.24515716e+01,\n",
       "       1.24795799e+01, 1.25552489e+01, 1.25913434e+01, 1.25985286e+01,\n",
       "       1.26032330e+01, 1.26243833e+01, 1.26275752e+01, 1.26929750e+01,\n",
       "       1.27095755e+01, 1.27454387e+01, 1.27625834e+01, 1.27668280e+01,\n",
       "       1.27695675e+01, 1.28153229e+01, 1.28192235e+01, 1.28216504e+01,\n",
       "       1.28383991e+01, 1.28495266e+01, 1.28605421e+01, 1.29387879e+01,\n",
       "       1.29427852e+01, 1.29809339e+01, 1.30035503e+01, 1.30885644e+01,\n",
       "       1.31037826e+01, 1.31084824e+01, 1.31141606e+01, 1.31329224e+01,\n",
       "       1.31413164e+01, 1.31492711e+01, 1.31510893e+01, 1.31846841e+01,\n",
       "       1.31900277e+01, 1.32120638e+01, 1.32429147e+01, 1.32712059e+01,\n",
       "       1.33135234e+01, 1.33432605e+01, 1.33636041e+01, 1.33666395e+01,\n",
       "       1.39560407e+01, 1.39656209e+01, 1.39682877e+01, 1.39981761e+01,\n",
       "       1.46839101e+01, 1.46984914e+01, 1.47154297e+01, 1.47193455e+01,\n",
       "       1.47391116e+01, 1.47535534e+01, 1.47598149e+01, 1.47811812e+01,\n",
       "       1.50977009e+01, 1.51105270e+01, 1.51152937e+01, 1.51347597e+01,\n",
       "       1.51582992e+01, 1.51690649e+01, 1.51718685e+01, 1.54356640e+01,\n",
       "       1.54376968e+01, 1.54675941e+01, 1.54841733e+01, 1.56119510e+01,\n",
       "       1.56209984e+01, 1.56339817e+01, 1.56720097e+01, 1.56809313e+01,\n",
       "       1.56849485e+01, 1.57005675e+01, 1.57177440e+01, 1.57615685e+01,\n",
       "       1.60633234e+01, 1.60708771e+01, 1.60716339e+01, 1.60740871e+01,\n",
       "       1.60852289e+01, 1.63195642e+01, 1.63216007e+01, 1.63297489e+01,\n",
       "       1.63339198e+01, 1.63912881e+01, 1.64111651e+01, 1.64770856e+01,\n",
       "       1.65102938e+01, 1.65221431e+01, 1.65246868e+01, 1.65378498e+01,\n",
       "       1.65470777e+01, 1.65633619e+01, 1.67109998e+01, 1.68501014e+01,\n",
       "       1.73154154e+01, 1.73283939e+01, 1.73559303e+01, 1.73597079e+01,\n",
       "       1.73641593e+01, 1.73695089e+01, 1.74550026e+01, 1.74577614e+01,\n",
       "       1.74825204e+01, 1.74870028e+01, 1.75299485e+01, 1.75370759e+01,\n",
       "       1.75764694e+01, 1.76191578e+01, 1.76261195e+01, 1.76308522e+01,\n",
       "       1.76348828e+01, 1.77144623e+01, 1.77403785e+01, 1.77437562e+01,\n",
       "       1.77637935e+01, 1.77676213e+01, 1.77703775e+01, 1.78007302e+01,\n",
       "       1.78052845e+01, 1.78060595e+01, 1.78077196e+01, 1.78168332e+01,\n",
       "       1.78336529e+01, 1.78358299e+01, 1.78368528e+01, 1.78528434e+01,\n",
       "       1.78605896e+01, 1.78646337e+01, 1.78834654e+01, 1.78981477e+01,\n",
       "       1.79496834e+01, 1.79587741e+01, 1.79610733e+01, 1.84084672e+01,\n",
       "       1.84105736e+01, 1.84140351e+01, 1.84249034e+01, 1.84646821e+01,\n",
       "       1.84738402e+01, 1.85055657e+01, 1.85130523e+01, 1.85206380e+01,\n",
       "       1.85387402e+01, 1.86439237e+01, 1.86482126e+01, 1.86515410e+01,\n",
       "       1.86624299e+01, 1.88397698e+01, 1.88778284e+01, 1.88817869e+01,\n",
       "       1.89192000e+01, 1.89461908e+01, 1.89529001e+01, 1.89566416e+01,\n",
       "       1.92508060e+01, 1.92853032e+01, 1.92982694e+01, 1.93067212e+01,\n",
       "       1.93126176e+01, 1.93297738e+01, 1.93329495e+01, 1.93565216e+01,\n",
       "       1.93613057e+01, 1.94278558e+01, 1.94463775e+01, 1.94483386e+01,\n",
       "       1.94998750e+01, 1.95035579e+01, 1.95087790e+01, 1.95171621e+01,\n",
       "       1.95218915e+01, 1.95440494e+01, 1.95474997e+01, 1.95955233e+01,\n",
       "       1.96209745e+01, 1.96274375e+01, 1.96589114e+01, 1.97064704e+01,\n",
       "       1.97124728e+01, 1.97259358e+01, 1.97272696e+01, 1.97572906e+01,\n",
       "       1.99075834e+01, 2.00838610e+01, 2.01056973e+01, 2.01153274e+01,\n",
       "       2.01166069e+01, 2.01246625e+01, 2.01488145e+01, 2.01579982e+01,\n",
       "       2.01633321e+01, 2.02913424e+01, 2.02968574e+01, 2.02988660e+01,\n",
       "       2.03047034e+01, 2.03454594e+01, 2.03841109e+01, 2.03875860e+01,\n",
       "       2.03910845e+01, 2.03935742e+01, 2.04396386e+01, 2.04561990e+01,\n",
       "       2.04636741e+01, 2.04958183e+01, 2.05189087e+01, 2.05248861e+01,\n",
       "       2.05430864e+01, 2.05545972e+01, 2.05592865e+01, 2.05759551e+01,\n",
       "       2.06308939e+01, 2.06605671e+01, 2.07117865e+01, 2.07248096e+01,\n",
       "       2.07323272e+01, 2.07366836e+01, 2.07394451e+01, 2.07504851e+01,\n",
       "       2.07533990e+01, 2.07701267e+01, 2.08189803e+01, 2.08210358e+01,\n",
       "       2.08296663e+01, 2.08433575e+01, 2.08639904e+01, 2.08671877e+01,\n",
       "       2.08993378e+01, 2.09082216e+01, 2.09101761e+01, 2.09126213e+01,\n",
       "       2.09139551e+01, 2.09299200e+01, 2.09625939e+01, 2.09654393e+01,\n",
       "       2.09678903e+01, 2.09879094e+01, 2.10633660e+01, 2.10727064e+01,\n",
       "       2.11086396e+01, 2.11213051e+01, 2.11271249e+01, 2.11356035e+01,\n",
       "       2.11469808e+01, 2.11742624e+01, 2.11904227e+01, 2.12016214e+01,\n",
       "       2.12073702e+01, 2.12276271e+01, 2.12296399e+01, 2.12320526e+01,\n",
       "       2.12617346e+01, 2.12633993e+01, 2.12840905e+01, 2.13504752e+01,\n",
       "       2.14229629e+01, 2.14294259e+01, 2.14714106e+01, 2.14869264e+01,\n",
       "       2.15840607e+01, 2.16230809e+01, 2.16291844e+01, 2.20977753e+01,\n",
       "       2.21258680e+01, 2.21321748e+01, 2.21490203e+01, 2.21799562e+01,\n",
       "       2.21905567e+01, 2.21926226e+01, 2.23188259e+01, 2.23305931e+01,\n",
       "       2.23333767e+01, 2.23356617e+01, 2.23550186e+01, 2.23617121e+01,\n",
       "       2.23914679e+01, 2.24067468e+01, 2.24332178e+01, 2.24536475e+01,\n",
       "       2.24603843e+01, 2.24747070e+01, 2.25135314e+01, 2.25366173e+01,\n",
       "       2.27053239e+01, 2.27268931e+01, 2.27324082e+01, 2.27430277e+01,\n",
       "       2.27486452e+01, 2.27811993e+01, 2.27945501e+01, 2.27977373e+01,\n",
       "       2.28215742e+01, 2.28433321e+01, 2.29193126e+01, 2.29313349e+01,\n",
       "       2.29423844e+01, 2.29642133e+01, 2.30659411e+01, 2.30731253e+01,\n",
       "       2.30748234e+01, 2.31093214e+01, 2.31121318e+01, 2.31260841e+01,\n",
       "       2.31650758e+01, 2.31795872e+01, 2.32194670e+01, 2.32263959e+01,\n",
       "       2.32353480e+01, 2.32466575e+01, 2.32525091e+01, 2.32877048e+01,\n",
       "       2.32998935e+01, 2.33189752e+01, 2.33318996e+01, 2.33819475e+01,\n",
       "       2.34214604e+01, 2.34337114e+01, 2.34912570e+01, 2.35035647e+01,\n",
       "       2.36411064e+01, 2.36437219e+01, 2.36521534e+01, 2.36689622e+01,\n",
       "       2.36739155e+01, 2.36968562e+01, 2.37189926e+01, 2.37507359e+01,\n",
       "       2.37865913e+01, 2.38049326e+01, 2.38462916e+01, 2.38526706e+01,\n",
       "       2.38584475e+01, 2.38608536e+01, 2.38883812e+01, 2.38988427e+01,\n",
       "       2.39022710e+01, 2.39283183e+01, 2.41296305e+01, 2.41398673e+01,\n",
       "       2.41440653e+01, 2.41453244e+01, 2.41514385e+01, 2.41619376e+01,\n",
       "       2.41639887e+01, 2.41663402e+01, 2.41684581e+01, 2.41896368e+01,\n",
       "       2.41915134e+01, 2.42469283e+01, 2.42515370e+01, 2.42567630e+01,\n",
       "       2.42597138e+01, 2.43421586e+01, 2.43462117e+01, 2.43540293e+01,\n",
       "       2.43567843e+01, 2.43739261e+01, 2.43825962e+01, 2.43939227e+01,\n",
       "       2.46242487e+01, 2.46283165e+01, 2.47385079e+01, 2.47495123e+01,\n",
       "       2.48564982e+01, 2.48637664e+01, 2.49305827e+01, 2.49324669e+01,\n",
       "       2.49589040e+01, 2.50125818e+01, 2.50189412e+01, 2.50375881e+01,\n",
       "       2.52309905e+01, 2.52437205e+01, 2.52854418e+01, 2.53095433e+01,\n",
       "       2.53115240e+01, 2.53147754e+01, 2.55470418e+01, 2.55528073e+01,\n",
       "       2.55554055e+01, 2.55569211e+01, 2.55693138e+01, 2.55742137e+01,\n",
       "       2.56140734e+01, 2.56296943e+01, 2.56369466e+01, 2.56500371e+01,\n",
       "       2.56594768e+01, 2.56737718e+01, 2.58292967e+01, 2.58319449e+01,\n",
       "       2.58341231e+01, 2.58401940e+01, 2.58586192e+01, 2.58675908e+01,\n",
       "       2.58934619e+01, 2.59021637e+01, 2.59056192e+01, 2.59135002e+01,\n",
       "       2.59617073e+01, 2.59889006e+01, 2.60043721e+01, 2.60105367e+01,\n",
       "       2.60270249e+01, 2.60357728e+01, 2.60399963e+01, 2.60417176e+01,\n",
       "       2.61235202e+01, 2.61740868e+01, 2.62330129e+01, 2.62643951e+01,\n",
       "       2.62824935e+01, 2.62871870e+01, 2.62929035e+01, 2.62942236e+01,\n",
       "       2.63016982e+01, 2.63326718e+01, 2.63388754e+01, 2.63399410e+01,\n",
       "       2.63417977e+01, 2.63661225e+01, 2.63721361e+01, 2.63751662e+01,\n",
       "       2.63837055e+01, 2.64032356e+01, 2.64107513e+01, 2.64301119e+01,\n",
       "       2.64511156e+01, 2.65343976e+01, 2.65615004e+01, 2.65647559e+01,\n",
       "       2.65884743e+01, 2.65938263e+01, 2.66557765e+01, 2.66750428e+01,\n",
       "       2.66773854e+01, 2.67025168e+01, 2.67124781e+01, 2.67177704e+01,\n",
       "       2.67396245e+01, 2.67564602e+01, 2.67882967e+01, 2.67954835e+01,\n",
       "       2.68242663e+01, 2.68260997e+01, 2.68292864e+01, 2.68912855e+01,\n",
       "       2.68985057e+01, 2.70978990e+01, 2.71147811e+01, 2.71205444e+01,\n",
       "       2.71283334e+01, 2.71402635e+01, 2.71463671e+01, 2.71860939e+01,\n",
       "       2.71919826e+01, 2.71964933e+01, 2.72266406e+01, 2.72498574e+01,\n",
       "       2.72751141e+01, 2.72791856e+01, 2.72878280e+01, 2.73075056e+01,\n",
       "       2.73113987e+01, 2.73154584e+01, 2.73571161e+01, 2.74014190e+01,\n",
       "       2.74630945e+01, 2.74664449e+01, 2.74865405e+01, 2.75017935e+01,\n",
       "       2.75557665e+01, 2.75865055e+01, 2.75883695e+01, 2.76412057e+01,\n",
       "       2.76524462e+01, 2.76643182e+01, 2.76773927e+01, 2.76861216e+01,\n",
       "       2.76947371e+01, 2.76994962e+01, 2.77026857e+01, 2.77294383e+01,\n",
       "       2.77311147e+01, 2.81514553e+01, 2.81541212e+01, 2.81629565e+01,\n",
       "       2.81702608e+01, 2.81913036e+01, 2.82034608e+01, 2.82051614e+01,\n",
       "       2.82072203e+01, 2.82163841e+01, 2.82276390e+01, 2.83507596e+01,\n",
       "       2.83571154e+01, 2.83785331e+01, 2.84006730e+01, 2.84020057e+01,\n",
       "       2.84288741e+01, 2.84402231e+01, 2.84430849e+01, 2.84538344e+01,\n",
       "       2.84620595e+01, 2.85734169e+01, 2.85789187e+01, 2.86169544e+01,\n",
       "       2.86917333e+01, 2.87687716e+01, 2.87738991e+01, 2.87812521e+01,\n",
       "       2.87827920e+01, 2.87923565e+01, 2.88351101e+01, 2.88841619e+01,\n",
       "       2.88869594e+01, 2.90433578e+01, 2.90472209e+01, 2.90821948e+01,\n",
       "       2.90947148e+01, 2.91226209e+01, 2.91585258e+01, 2.92789764e+01,\n",
       "       2.92968537e+01, 2.93035348e+01, 2.93736431e+01, 2.93815692e+01,\n",
       "       2.93849114e+01, 2.93929220e+01, 2.94030770e+01, 2.94289142e+01,\n",
       "       2.94985266e+01, 2.95017338e+01, 2.95612553e+01, 2.95641050e+01,\n",
       "       2.95690555e+01, 2.95702980e+01, 2.95792034e+01, 2.96019304e+01,\n",
       "       2.96392589e+01, 2.96524794e+01, 2.96673831e+01, 2.96795502e+01,\n",
       "       2.97790019e+01, 2.98472090e+01, 2.98635974e+01, 2.98766220e+01,\n",
       "       2.98843649e+01, 2.98885189e+01, 2.99090692e+01, 2.99129274e+01,\n",
       "       2.99164910e+01, 2.99196032e+01, 2.99633726e+01, 2.99665336e+01,\n",
       "       2.99745241e+01])"
      ]
     },
     "execution_count": 63,
     "metadata": {},
     "output_type": "execute_result"
    }
   ],
   "source": [
    "max(low_spikes)"
   ]
  },
  {
   "cell_type": "code",
   "execution_count": 101,
   "metadata": {},
   "outputs": [
    {
     "data": {
      "image/png": "[encoded data removed]",
      "text/plain": [
       "<Figure size 864x432 with 5 Axes>"
      ]
     },
     "metadata": {
      "needs_background": "light"
     },
     "output_type": "display_data"
    }
   ],
   "source": [
    "low_spks = [ (i[0], i[0]) for i in low_spikes.T]\n",
    "n_spks_low= len(low_spks)+1\n",
    "y_start   = np.ones((1,n_spks_low))\n",
    "y_end     = np.ones((1,n_spks_low))*5\n",
    "y_vals    = [(y_start[0][i],y_end[0][i]) for i in range(n_spks_low-1)]\n",
    "\n",
    "fig, axs = plt.subplots(5, 1, constrained_layout=True)\n",
    "fig.set_size_inches(12,6)\n",
    "for i in range(n_spks_low-1):\n",
    "    axs[0].plot(low_spks[i],y_vals[i],'b')\n",
    "    axs[1].plot(low_spks[i],y_vals[i],'b')\n",
    "    axs[2].plot(low_spks[i],y_vals[i],'b')\n",
    "    axs[3].plot(low_spks[i],y_vals[i],'b')\n",
    "    axs[4].plot(low_spks[i],y_vals[i],'b')\n",
    "axs[0].set_ylim([1,5])\n",
    "axs[0].set_yticks([1,5],[0, 1])\n",
    "axs[0].set_xlim([0,5])\n",
    "axs[0].set_yticklabels([0,1])\n",
    "\n",
    "axs[1].set_ylim([1,5])\n",
    "axs[1].set_yticks([1,5],[1, 1])\n",
    "axs[1].set_xlim([5,10])\n",
    "axs[1].set_yticklabels([0,1])\n",
    "\n",
    "axs[2].set_ylim([1,5])\n",
    "axs[2].set_yticks([1,5],[1, 1])\n",
    "axs[2].set_xlim([10,15])\n",
    "\n",
    "\n",
    "axs[3].set_ylim([1,5])\n",
    "axs[3].set_yticks([1,5],[1, 1])\n",
    "axs[3].set_xlim([15,20])\n",
    "axs[3].set_yticklabels([0,1])\n",
    "\n",
    "axs[4].set_ylim([1,5])\n",
    "axs[4].set_yticks([1,5],[1, 1])\n",
    "axs[4].set_xlim([20,30])\n",
    "\n",
    "\n",
    "plt.suptitle('Raster plot for the spontaneous firing of a retinal ganglion cell \\n under a low light condition')\n",
    "plt.xlabel('Time (s)')\n",
    "plt.savefig('test.png', bbox_inches='tight')"
   ]
  },
  {
   "cell_type": "code",
   "execution_count": 76,
   "metadata": {},
   "outputs": [
    {
     "data": {
      "text/plain": [
       "969"
      ]
     },
     "execution_count": 76,
     "metadata": {},
     "output_type": "execute_result"
    }
   ],
   "source": [
    "len(low_spks)\n"
   ]
  },
  {
   "cell_type": "code",
   "execution_count": null,
   "metadata": {},
   "outputs": [],
   "source": [
    "fig, axs = plt.subplots(5, 1)\n",
    "axs[0].plot(low_spks[i], y_vals[i], 'b')\n",
    "axs[0].set_xlim(0, 6)\n",
    "axs[0].set_xlabel('Time (s)')\n",
    "axs[0].set_ylabel('Spike')\n"
   ]
  },
  {
   "cell_type": "code",
   "execution_count": 104,
   "metadata": {},
   "outputs": [
    {
     "data": {
      "image/png": "[encoded data removed]",
      "text/plain": [
       "<Figure size 432x288 with 1 Axes>"
      ]
     },
     "metadata": {
      "needs_background": "light"
     },
     "output_type": "display_data"
    }
   ],
   "source": [
    "N_spikes_low = np.shape(data_dict['SpikesHigh'])[1]\n",
    "N_spikes_high= np.shape(data_dict['SpikesLow'])[1]\n",
    "y_vals_low   = np.ones((1,N_spikes_low))\n",
    "y_vals_high  = np.ones((1,N_spikes_high))*2\n",
    "low_spikes   = data_dict['SpikesHigh']\n",
    "high_spikes  = data_dict['SpikesLow']\n",
    "plt.plot(low_spikes,y_vals_low,'|')\n",
    "plt.yticks(np.arange(1,3))\n",
    "plt.ylim([0,2])\n",
    "plt.xlim([0, 5])\n",
    "plt.ylabel('Neuron')\n",
    "plt.xlabel('Time (s)')\n",
    "plt.title('Raster plot for spontaneous firing  \\n of retinal ganglion cells under a low light condition')\n",
    "plt.show()"
   ]
  },
  {
   "cell_type": "code",
   "execution_count": 100,
   "metadata": {},
   "outputs": [
    {
     "data": {
      "text/plain": [
       "[<matplotlib.lines.Line2D at 0x7f7ac06fea90>,\n",
       " <matplotlib.lines.Line2D at 0x7f7ac06febe0>]"
      ]
     },
     "execution_count": 100,
     "metadata": {},
     "output_type": "execute_result"
    },
    {
     "data": {
      "image/png": "[encoded data removed]",
      "text/plain": [
       "<Figure size 432x288 with 1 Axes>"
      ]
     },
     "metadata": {
      "needs_background": "light"
     },
     "output_type": "display_data"
    }
   ],
   "source": []
  },
  {
   "cell_type": "code",
   "execution_count": 106,
   "metadata": {},
   "outputs": [
    {
     "data": {
      "image/png": "[encoded data removed]",
      "text/plain": [
       "<Figure size 432x288 with 1 Axes>"
      ]
     },
     "metadata": {
      "needs_background": "light"
     },
     "output_type": "display_data"
    }
   ],
   "source": [
    "N_spikes_low = np.shape(data_dict['SpikesHigh'])[1]\n",
    "N_spikes_high= np.shape(data_dict['SpikesLow'])[1]\n",
    "y_vals_low   = np.ones((1,N_spikes_low))\n",
    "y_vals_high  = np.ones((1,N_spikes_high))*2\n",
    "low_spikes   = data_dict['SpikesHigh']\n",
    "high_spikes  = data_dict['SpikesLow']\n",
    "plt.plot(low_spikes.T,y_vals_low.T,'|')\n",
    "plt.plot(high_spikes.T, y_vals_high.T, 'r|')\n",
    "plt.yticks(np.arange(1,3))\n",
    "plt.ylim([0,3])\n",
    "plt.xlim([0, 5])\n",
    "plt.ylabel('Neuron')\n",
    "plt.xlabel('Time (s)')\n",
    "plt.title('Raster plot for spontaneous firing  \\n of retinal ganglion cells under high-low conditions')\n",
    "plt.legend(['SpikesHigh','SpikesLow'])\n",
    "plt.show()"
   ]
  },
  {
   "cell_type": "code",
   "execution_count": 114,
   "metadata": {},
   "outputs": [],
   "source": [
    "spikes_diff = []\n",
    "for i in range(N_spikes_low-1):\n",
    "    low_ISI = low_spikes[0][i+1] - low_spikes[0][i]\n",
    "    spikes_diff.append(low_ISI)\n",
    "    "
   ]
  },
  {
   "cell_type": "code",
   "execution_count": null,
   "metadata": {},
   "outputs": [],
   "source": []
  },
  {
   "cell_type": "code",
   "execution_count": 129,
   "metadata": {},
   "outputs": [
    {
     "data": {
      "image/png": "[encoded data removed]",
      "text/plain": [
       "<Figure size 432x288 with 1 Axes>"
      ]
     },
     "metadata": {
      "needs_background": "light"
     },
     "output_type": "display_data"
    }
   ],
   "source": [
    "bins = np.arange(0,0.5,0.001)\n",
    "plt.hist(spikes_diff,bins)\n",
    "plt.ylabel('Counts')\n",
    "plt.xlabel('ISI (s)')\n",
    "plt.show()"
   ]
  },
  {
   "cell_type": "code",
   "execution_count": 3,
   "metadata": {},
   "outputs": [
    {
     "name": "stdout",
     "output_type": "stream",
     "text": [
      " Ch9-spikes-1.mat   Ch9-spikes-2.mat   Chapter_9.m  \u001b[0m\u001b[01;34m'Chapter 9 Solutions'\u001b[0m/\r\n"
     ]
    }
   ],
   "source": [
    "ls ../Case-Studies-Kramer-Eden/Chapter9/"
   ]
  },
  {
   "cell_type": "code",
   "execution_count": 3,
   "metadata": {},
   "outputs": [
    {
     "name": "stdout",
     "output_type": "stream",
     "text": [
      "dict_keys(['t', 'X', 'spiketimes'])\n"
     ]
    }
   ],
   "source": [
    "place_cell_data_path = '../Case-Studies-Kramer-Eden/Chapter9/Ch9-spikes-1.mat'\n",
    "place_cell_dict = load_mat_file(place_cell_data_path)\n",
    "print(place_cell_dict.keys())"
   ]
  },
  {
   "cell_type": "code",
   "execution_count": 103,
   "metadata": {},
   "outputs": [
    {
     "data": {
      "image/png": "[encoded data removed]",
      "text/plain": [
       "<Figure size 432x288 with 1 Axes>"
      ]
     },
     "metadata": {
      "needs_background": "light"
     },
     "output_type": "display_data"
    }
   ],
   "source": [
    "N_spikes = place_cell_dict['spiketimes'].size\n",
    "y_vals   = np.zeros(N_spikes)\n",
    "\n",
    "spike_time_pos_idx = [np.where(place_cell_dict['t']==spike_time)[0][0] for spike_time in place_cell_dict['spiketimes']]\n",
    "spike_time_pos     = place_cell_dict['X'][spike_time_pos_idx]\n",
    "\n",
    "plt.plot(place_cell_dict['t'],place_cell_dict['X'],'.')\n",
    "plt.plot(place_cell_dict['t'][trial_idxs],place_cell_dict['X'][trial_idxs],'*k')\n",
    "\n",
    "plt.plot(place_cell_dict['spiketimes'],y_vals,'|')\n",
    "plt.plot(place_cell_dict['spiketimes'],spike_time_pos,'.r')\n",
    "\n",
    "plt.xlabel('Time (s)')\n",
    "plt.ylabel('Position (cm)')\n",
    "\n",
    "plt.show()"
   ]
  },
  {
   "cell_type": "code",
   "execution_count": 107,
   "metadata": {},
   "outputs": [
    {
     "name": "stdout",
     "output_type": "stream",
     "text": [
      "[144135 144419 145026 145395]\n",
      "[148572]\n",
      "[150215 150686 157904 158536 158985 159186 159584 159901 160233 160557\n",
      " 170938 171321 171495 171934 172263 172524 172806 172979 173244]\n"
     ]
    }
   ],
   "source": [
    "print(tmp_peaks_down)\n",
    "print(tmp_peaks_up)\n",
    "print(peaks_up[-20:-1])"
   ]
  },
  {
   "cell_type": "code",
   "execution_count": 187,
   "metadata": {},
   "outputs": [],
   "source": [
    "peaks_up, _    = find_peaks(place_cell_dict['X'].T[0],88) #parameters chosen by visual inspection\n",
    "peaks_down,_   = find_peaks(place_cell_dict['X'].T[0]*-1,-11) #parameters chosen by visual inspection\n",
    "\n",
    "trial_idxs     = []\n",
    "tmp_peaks_up   = np.copy(peaks_up)\n",
    "tmp_peaks_down = np.copy(peaks_down)\n",
    "curr_peak      = tmp_peaks_down[0]\n",
    "next_peak      = tmp_peaks_up[0]\n",
    "\n",
    "trial_idxs.append(curr_peak)\n",
    "trial_idxs.append(next_peak)\n",
    "\n",
    "condition1 = len(np.where(tmp_peaks_up   > curr_peak)[0]) > 0\n",
    "condition2 = len(np.where(tmp_peaks_down > next_peak)[0]) > 0\n",
    "condition  = condition1 and condition2\n",
    "\n",
    "while condition:\n",
    "\n",
    "    next_peak_up_idx  = np.where(tmp_peaks_up > curr_peak)[0][0]\n",
    "    next_peak_up      = tmp_peaks_up[next_peak_up_idx]\n",
    "    tmp_peaks_up      = tmp_peaks_up[next_peak_up_idx:-1]\n",
    "    \n",
    "    next_peak_down_idx= np.where(tmp_peaks_down > next_peak_up)[0][0]\n",
    "    next_peak_down    = tmp_peaks_down[next_peak_down_idx]\n",
    "    tmp_peaks_down    = tmp_peaks_down[next_peak_down_idx:-1]\n",
    "    \n",
    "    trial_idxs.append(next_peak_up)\n",
    "    trial_idxs.append(next_peak_down)\n",
    "    \n",
    "    curr_peak  = next_peak_down\n",
    "    \n",
    "    condition1 = len(np.where(tmp_peaks_up   > curr_peak)[0]) > 0\n",
    "    condition2 = len(np.where(tmp_peaks_down > next_peak_up)[0]) > 0\n",
    "    condition  = condition1 and condition2\n",
    "    \n",
    "trial_idxs.append(peaks_up[-1])\n",
    "trial_idxs.append(peaks_down[-1])\n",
    "\n",
    "N_trials      = len(trial_idxs)\n",
    "start_idxs    = trial_idxs[1:N_trials:2]\n",
    "start_idxs[0] = 0\n",
    "start_idxs[-1]= trial_idxs[-1]\n"
   ]
  },
  {
   "cell_type": "code",
   "execution_count": 188,
   "metadata": {},
   "outputs": [
    {
     "data": {
      "image/png": "[encoded data removed]",
      "text/plain": [
       "<Figure size 432x288 with 1 Axes>"
      ]
     },
     "metadata": {
      "needs_background": "light"
     },
     "output_type": "display_data"
    }
   ],
   "source": [
    "N_spikes = place_cell_dict['spiketimes'].size\n",
    "y_vals   = np.zeros(N_spikes)\n",
    "\n",
    "spike_time_pos_idx = [np.where(place_cell_dict['t']==spike_time)[0][0] for spike_time in place_cell_dict['spiketimes']]\n",
    "spike_time_pos     = place_cell_dict['X'][spike_time_pos_idx]\n",
    "\n",
    "plt.plot(place_cell_dict['t'],place_cell_dict['X'],'.')\n",
    "plt.plot(place_cell_dict['t'][start_idxs],place_cell_dict['X'][start_idxs],'*k')\n",
    "\n",
    "plt.plot(place_cell_dict['spiketimes'],y_vals,'|')\n",
    "plt.plot(place_cell_dict['spiketimes'],spike_time_pos,'.r')\n",
    "\n",
    "plt.xlabel('Time (s)')\n",
    "plt.ylabel('Position (cm)')\n",
    "\n",
    "plt.show()"
   ]
  },
  {
   "cell_type": "code",
   "execution_count": 210,
   "metadata": {},
   "outputs": [],
   "source": [
    "by_trial_dict = {}\n",
    "by_trial_dict['X']=[]\n",
    "by_trial_dict['t']=[]\n",
    "by_trial_dict['spiketimes']=[]\n",
    "for t in range(len(start_idxs)-1):\n",
    "    t_start = start_idxs[t]\n",
    "    t_end   = start_idxs[t+1]-1\n",
    "    by_trial_dict['X'].append(place_cell_dict['X'].T[0][t_start:t_end])\n",
    "    by_trial_dict['t'].append(place_cell_dict['t'].T[0][t_start:t_end])\n",
    "    curr_spike_times   = [i for i in place_cell_dict['spiketimes'].T[0] if i in by_trial_dict['t'][t]]\n",
    "    by_trial_dict['spiketimes'].append(curr_spike_times)"
   ]
  },
  {
   "cell_type": "code",
   "execution_count": 233,
   "metadata": {},
   "outputs": [
    {
     "data": {
      "image/png": "[encoded data removed]",
      "text/plain": [
       "<Figure size 432x288 with 1 Axes>"
      ]
     },
     "metadata": {
      "needs_background": "light"
     },
     "output_type": "display_data"
    }
   ],
   "source": [
    "all_inter_spike_intervals = []\n",
    "for t in range(len(by_trial_dict['spiketimes'])):\n",
    "    #plt.plot(by_trial_dict['t'][t], by_trial_dict['X'][t])\n",
    "    curr_spike_times = by_trial_dict['spiketimes'][t]\n",
    "    all_inter_spike_intervals.append(np.diff(curr_spike_times))\n",
    "flatten = lambda l: [item for sublist in l for item in sublist]\n",
    "ISIs = flatten(all_inter_spike_intervals)\n",
    "plt.hist(ISIs,density=True, bins=100)\n",
    "plt.show()"
   ]
  },
  {
   "cell_type": "code",
   "execution_count": 209,
   "metadata": {},
   "outputs": [
    {
     "data": {
      "text/plain": [
       "array([  0.236,   3.902,   4.033,   4.088,   4.115,   4.116,   4.155,\n",
       "         4.193,   4.297,   4.326,   4.328,   4.499,   4.518,   4.577,\n",
       "         9.589,  14.163,  14.168,  14.184,  14.226,  14.239,  14.304,\n",
       "        14.329,  14.347,  14.359,  14.362,  14.375,  14.524,  23.698,\n",
       "        23.736,  23.768,  23.801,  23.807,  23.964,  24.016,  24.017,\n",
       "        24.148,  24.195,  31.31 ,  36.982,  37.051,  37.141,  37.245,\n",
       "        37.249,  37.262,  37.281,  37.291,  37.298,  37.327,  37.351,\n",
       "        37.377,  37.413,  37.425,  37.471,  37.473,  37.564,  37.673,\n",
       "        37.751,  47.976,  48.012,  48.035,  48.09 ,  48.134,  48.143,\n",
       "        48.17 ,  48.203,  48.249,  48.261,  48.271,  48.279,  48.297,\n",
       "        48.305,  48.339,  48.56 ,  58.447,  58.747,  58.765,  58.78 ,\n",
       "        58.859,  58.883,  58.949,  58.963,  58.973,  58.998,  59.134,\n",
       "        60.056,  60.234,  69.505,  69.539,  69.629,  69.671,  69.721,\n",
       "        69.77 ,  69.771,  69.783,  69.832,  69.862,  69.897,  69.9  ,\n",
       "        69.91 ,  69.934,  69.939,  69.974,  70.089,  70.113,  82.325,\n",
       "        82.45 ,  82.529,  82.557,  82.585,  82.596,  82.617,  82.651,\n",
       "        82.664,  82.693,  82.696,  82.732,  82.733,  82.833,  82.856,\n",
       "        82.882,  82.917,  82.937,  83.041,  83.172,  85.566,  91.443,\n",
       "        96.344,  96.52 ,  96.524,  96.547,  96.579,  96.608,  96.771,\n",
       "        96.789,  96.79 ,  96.91 ,  96.911, 102.461, 108.038, 108.041,\n",
       "       108.082, 108.127, 108.144, 108.183, 108.259, 108.291, 108.315,\n",
       "       108.344, 108.566, 121.071, 121.366, 121.428, 121.462, 121.536,\n",
       "       121.544, 121.586, 121.723, 121.78 , 121.831, 121.887, 121.923,\n",
       "       121.983, 122.141, 125.273, 127.061, 136.391, 136.533, 136.569,\n",
       "       136.736, 136.761, 136.778, 136.837, 136.861, 136.96 , 137.038,\n",
       "       137.096, 137.135, 137.329, 141.677, 147.085, 147.15 , 147.289,\n",
       "       147.304, 147.31 , 147.325, 147.397, 147.46 , 147.492, 147.542,\n",
       "       147.566, 147.747, 156.526, 156.534, 156.582, 156.603, 156.637,\n",
       "       156.646, 156.667, 156.668, 156.681, 156.698, 156.72 , 156.761,\n",
       "       156.765, 156.792, 156.847, 156.862, 156.936, 156.982, 157.096,\n",
       "       157.376, 169.624, 169.668, 169.708, 169.773, 169.782, 169.796,\n",
       "       169.873, 169.935, 170.062])"
      ]
     },
     "execution_count": 209,
     "metadata": {},
     "output_type": "execute_result"
    }
   ],
   "source": [
    "place_cell_dict['spiketimes'].T[0]"
   ]
  },
  {
   "cell_type": "code",
   "execution_count": 136,
   "metadata": {},
   "outputs": [
    {
     "data": {
      "image/png": "[encoded data removed]",
      "text/plain": [
       "<Figure size 432x288 with 1 Axes>"
      ]
     },
     "metadata": {
      "needs_background": "light"
     },
     "output_type": "display_data"
    },
    {
     "data": {
      "image/png": "[encoded data removed]",
      "text/plain": [
       "<Figure size 432x288 with 1 Axes>"
      ]
     },
     "metadata": {
      "needs_background": "light"
     },
     "output_type": "display_data"
    }
   ],
   "source": [
    "going_up_idxs   = np.where(np.diff(place_cell_dict['X'].T[0])>0)\n",
    "going_down_idxs = np.where(np.diff(place_cell_dict['X'].T[0])<0)\n",
    "\n",
    "going_up_times  = place_cell_dict['t'].T[0][going_up_idxs]\n",
    "going_down_times= place_cell_dict['t'].T[0][going_down_idxs]\n",
    "going_up_spike_times = [i for i in place_cell_dict['spiketimes'].T[0] if i in going_up_times]\n",
    "going_down_spike_times = [i for i in place_cell_dict['spiketimes'].T[0] if i in going_down_times]\n",
    "going_up_ISIs = np.diff(going_up_spike_times)\n",
    "going_down_ISIs = np.diff(going_down_spike_times)\n",
    "plt.hist(going_up_ISIs,density=True)\n",
    "plt.show()\n",
    "plt.hist(going_down_ISIs,density=True)\n",
    "plt.show()"
   ]
  },
  {
   "cell_type": "code",
   "execution_count": 65,
   "metadata": {},
   "outputs": [
    {
     "ename": "IndexError",
     "evalue": "index 220 is out of bounds for axis 0 with size 220",
     "output_type": "error",
     "traceback": [
      "\u001b[0;31m---------------------------------------------------------------------------\u001b[0m",
      "\u001b[0;31mIndexError\u001b[0m                                Traceback (most recent call last)",
      "\u001b[0;32m<ipython-input-65-f12f1f165b34>\u001b[0m in \u001b[0;36m<module>\u001b[0;34m\u001b[0m\n\u001b[0;32m----> 1\u001b[0;31m \u001b[0mgoing_up_spikes\u001b[0m \u001b[0;34m=\u001b[0m \u001b[0mplace_cell_dict\u001b[0m\u001b[0;34m[\u001b[0m\u001b[0;34m'spiketimes'\u001b[0m\u001b[0;34m]\u001b[0m\u001b[0;34m.\u001b[0m\u001b[0mT\u001b[0m\u001b[0;34m[\u001b[0m\u001b[0;36m0\u001b[0m\u001b[0;34m]\u001b[0m\u001b[0;34m[\u001b[0m\u001b[0mgoing_up_idxs\u001b[0m\u001b[0;34m]\u001b[0m\u001b[0;34m\u001b[0m\u001b[0;34m\u001b[0m\u001b[0m\n\u001b[0m\u001b[1;32m      2\u001b[0m \u001b[0mgoing_down_spikes\u001b[0m\u001b[0;34m=\u001b[0m\u001b[0mplace_cell_dict\u001b[0m\u001b[0;34m[\u001b[0m\u001b[0;34m'spiketimes'\u001b[0m\u001b[0;34m]\u001b[0m\u001b[0;34m.\u001b[0m\u001b[0mT\u001b[0m\u001b[0;34m[\u001b[0m\u001b[0;36m0\u001b[0m\u001b[0;34m]\u001b[0m\u001b[0;34m[\u001b[0m\u001b[0mgoing_down_idxs\u001b[0m\u001b[0;34m]\u001b[0m\u001b[0;34m\u001b[0m\u001b[0;34m\u001b[0m\u001b[0m\n",
      "\u001b[0;31mIndexError\u001b[0m: index 220 is out of bounds for axis 0 with size 220"
     ]
    }
   ],
   "source": [
    "going_up_spikes = place_cell_dict['spiketimes'].T[0][going_up_idxs]\n",
    "going_down_spikes=place_cell_dict['spiketimes'].T[0][going_down_idxs]"
   ]
  },
  {
   "cell_type": "code",
   "execution_count": 75,
   "metadata": {},
   "outputs": [
    {
     "data": {
      "text/plain": [
       "(88932,)"
      ]
     },
     "execution_count": 75,
     "metadata": {},
     "output_type": "execute_result"
    }
   ],
   "source": [
    "a = place_cell_dict['spiketimes'].T[0]\n",
    "going_up_idxs[0].shape"
   ]
  },
  {
   "cell_type": "code",
   "execution_count": null,
   "metadata": {},
   "outputs": [],
   "source": [
    "spike_time_pos_idx = [np.where(place_cell_dict['t']==spike_time)[0][0] for spike_time in place_cell_dict['spiketimes']]\n",
    "#find spike times corresponding to the upward trajectory\n"
   ]
  }
 ],
 "metadata": {
  "celltoolbar": "Slideshow",
  "kernelspec": {
   "display_name": "Python 3",
   "language": "python",
   "name": "python3"
  },
  "language_info": {
   "codemirror_mode": {
    "name": "ipython",
    "version": 3
   },
   "file_extension": ".py",
   "mimetype": "text/x-python",
   "name": "python",
   "nbconvert_exporter": "python",
   "pygments_lexer": "ipython3",
   "version": "3.7.3"
  }
 },
 "nbformat": 4,
 "nbformat_minor": 2
}
